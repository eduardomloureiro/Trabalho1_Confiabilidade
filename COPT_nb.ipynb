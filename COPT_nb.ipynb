{
 "cells": [
  {
   "cell_type": "code",
   "execution_count": 51,
   "metadata": {},
   "outputs": [],
   "source": [
    "import numpy as np\n",
    "from scipy.stats import binom\n",
    "import pandas as pd\n",
    "from itertools import combinations\n",
    "\n",
    "carga = 2850"
   ]
  },
  {
   "cell_type": "code",
   "execution_count": 52,
   "metadata": {},
   "outputs": [],
   "source": [
    "class Agrupamento:\n",
    "    def __init__(self, pot, qtd, prob):\n",
    "        self.pot = pot\n",
    "        self.qtd = qtd\n",
    "        self.prob = prob\n",
    "        self.geraTabela()\n",
    "\n",
    "    def geraTabela(self):\n",
    "        self.resultados = []\n",
    "        self.iterado = []\n",
    "        for i in range(int(self.qtd) + 1):\n",
    "            self.resultados.append((i * self.pot, binom.pmf(i, int(self.qtd), self.prob)))\n",
    "            self.iterado.append(0)\n",
    "        self.usina = pd.DataFrame(self.resultados,columns=['Pot','Prob'])\n",
    "        self.usina['Iter'] = self.iterado\n",
    "        self.usina['IterAg'] = np.nan\n",
    "            \n",
    "            \n",
    "def pu(x):\n",
    "    return x/100"
   ]
  },
  {
   "cell_type": "code",
   "execution_count": 53,
   "metadata": {},
   "outputs": [],
   "source": [
    "data = pd.read_excel('Gerac.xlsx')\n",
    "data['FOR'] = data['FOR'].apply(pu)"
   ]
  },
  {
   "cell_type": "code",
   "execution_count": 54,
   "metadata": {},
   "outputs": [],
   "source": [
    "agrupamento = []\n",
    "usinas = []\n",
    "geracao_total = 0\n",
    "for i in range(len(data['Usina'])):\n",
    "    agrupamento.append(Agrupamento(data.loc[i]['Pot. Ativa Max'], data.loc[i]['Unidades'], data.loc[i]['FOR']))\n",
    "    usinas.append(agrupamento[i].usina)\n",
    "    geracao_total += data.loc[i]['Unidades']*data.loc[i]['Pot. Ativa Max']\n",
    "\n",
    "potencia_para_falta = geracao_total - carga\n",
    "\n",
    "lista = []\n",
    "for i in range(len(usinas)):\n",
    "    for x in range(len(usinas[i])):\n",
    "        lista.append((i,x))\n",
    "\n",
    "combinacoes = []\n",
    "for i in combinations(lista,2):\n",
    "    combinacoes.append(i)"
   ]
  },
  {
   "cell_type": "code",
   "execution_count": 55,
   "metadata": {},
   "outputs": [],
   "source": [
    "resultados_final = []\n",
    "\n",
    "for i in range(len(combinacoes)):\n",
    "    soma = 0\n",
    "    produto = 1\n",
    "    for j in combinacoes[i]:\n",
    "        soma += agrupamento[j[0]].resultados[j[1]][0]\n",
    "        produto *= agrupamento[j[0]].resultados[j[1]][1]\n",
    "    resultados_final.append((soma,produto))"
   ]
  },
  {
   "cell_type": "code",
   "execution_count": 56,
   "metadata": {},
   "outputs": [],
   "source": [
    "copt = pd.DataFrame(resultados_final, columns=['Pot indisponivel', 'Probabilidade'])\n",
    "copt = copt.groupby(by = ['Pot indisponivel'], as_index = False).sum()\n"
   ]
  },
  {
   "cell_type": "code",
   "execution_count": 57,
   "metadata": {},
   "outputs": [],
   "source": [
    "perda_de_carga = []\n",
    "\n",
    "for i in range(len(copt)):\n",
    "    if copt.loc[i]['Pot indisponivel'] <=  potencia_para_falta:\n",
    "        perda_de_carga.append(0)\n",
    "    else:\n",
    "        perda_de_carga.append(abs(copt.loc[i]['Pot indisponivel'] - potencia_para_falta))"
   ]
  },
  {
   "cell_type": "code",
   "execution_count": 58,
   "metadata": {},
   "outputs": [
    {
     "data": {
      "text/html": [
       "<div>\n",
       "<style scoped>\n",
       "    .dataframe tbody tr th:only-of-type {\n",
       "        vertical-align: middle;\n",
       "    }\n",
       "\n",
       "    .dataframe tbody tr th {\n",
       "        vertical-align: top;\n",
       "    }\n",
       "\n",
       "    .dataframe thead th {\n",
       "        text-align: right;\n",
       "    }\n",
       "</style>\n",
       "<table border=\"1\" class=\"dataframe\">\n",
       "  <thead>\n",
       "    <tr style=\"text-align: right;\">\n",
       "      <th></th>\n",
       "      <th>Pot indisponivel</th>\n",
       "      <th>Probabilidade</th>\n",
       "      <th>Perda de Carga</th>\n",
       "      <th>x.p</th>\n",
       "    </tr>\n",
       "  </thead>\n",
       "  <tbody>\n",
       "    <tr>\n",
       "      <th>0</th>\n",
       "      <td>0.0</td>\n",
       "      <td>74.2771</td>\n",
       "      <td>0.0</td>\n",
       "      <td>0.000000</td>\n",
       "    </tr>\n",
       "    <tr>\n",
       "      <th>1</th>\n",
       "      <td>12.0</td>\n",
       "      <td>1.1668</td>\n",
       "      <td>0.0</td>\n",
       "      <td>0.000000</td>\n",
       "    </tr>\n",
       "    <tr>\n",
       "      <th>2</th>\n",
       "      <td>20.0</td>\n",
       "      <td>4.5540</td>\n",
       "      <td>0.0</td>\n",
       "      <td>0.000000</td>\n",
       "    </tr>\n",
       "    <tr>\n",
       "      <th>3</th>\n",
       "      <td>24.0</td>\n",
       "      <td>0.0476</td>\n",
       "      <td>0.0</td>\n",
       "      <td>0.000000</td>\n",
       "    </tr>\n",
       "    <tr>\n",
       "      <th>4</th>\n",
       "      <td>32.0</td>\n",
       "      <td>0.0332</td>\n",
       "      <td>0.0</td>\n",
       "      <td>0.000000</td>\n",
       "    </tr>\n",
       "    <tr>\n",
       "      <th>...</th>\n",
       "      <td>...</td>\n",
       "      <td>...</td>\n",
       "      <td>...</td>\n",
       "      <td>...</td>\n",
       "    </tr>\n",
       "    <tr>\n",
       "      <th>203</th>\n",
       "      <td>891.0</td>\n",
       "      <td>0.0000</td>\n",
       "      <td>336.0</td>\n",
       "      <td>0.000003</td>\n",
       "    </tr>\n",
       "    <tr>\n",
       "      <th>204</th>\n",
       "      <td>901.0</td>\n",
       "      <td>0.0000</td>\n",
       "      <td>346.0</td>\n",
       "      <td>0.000069</td>\n",
       "    </tr>\n",
       "    <tr>\n",
       "      <th>205</th>\n",
       "      <td>941.0</td>\n",
       "      <td>0.0000</td>\n",
       "      <td>386.0</td>\n",
       "      <td>0.003860</td>\n",
       "    </tr>\n",
       "    <tr>\n",
       "      <th>206</th>\n",
       "      <td>985.0</td>\n",
       "      <td>0.0000</td>\n",
       "      <td>430.0</td>\n",
       "      <td>0.000383</td>\n",
       "    </tr>\n",
       "    <tr>\n",
       "      <th>207</th>\n",
       "      <td>991.0</td>\n",
       "      <td>0.0000</td>\n",
       "      <td>436.0</td>\n",
       "      <td>0.013080</td>\n",
       "    </tr>\n",
       "  </tbody>\n",
       "</table>\n",
       "<p>208 rows × 4 columns</p>\n",
       "</div>"
      ],
      "text/plain": [
       "     Pot indisponivel  Probabilidade  Perda de Carga       x.p\n",
       "0                 0.0        74.2771             0.0  0.000000\n",
       "1                12.0         1.1668             0.0  0.000000\n",
       "2                20.0         4.5540             0.0  0.000000\n",
       "3                24.0         0.0476             0.0  0.000000\n",
       "4                32.0         0.0332             0.0  0.000000\n",
       "..                ...            ...             ...       ...\n",
       "203             891.0         0.0000           336.0  0.000003\n",
       "204             901.0         0.0000           346.0  0.000069\n",
       "205             941.0         0.0000           386.0  0.003860\n",
       "206             985.0         0.0000           430.0  0.000383\n",
       "207             991.0         0.0000           436.0  0.013080\n",
       "\n",
       "[208 rows x 4 columns]"
      ]
     },
     "execution_count": 58,
     "metadata": {},
     "output_type": "execute_result"
    }
   ],
   "source": [
    "copt['Perda de Carga'] = perda_de_carga\n",
    "copt['x.p'] = copt['Perda de Carga'] * copt['Probabilidade']\n",
    "\n",
    "# mudar formato da probabilidade para % com 2 casas decimais\n",
    "copt['Probabilidade'] = copt['Probabilidade'].apply(lambda x: round(x, 4))\n",
    "copt"
   ]
  },
  {
   "cell_type": "code",
   "execution_count": 59,
   "metadata": {},
   "outputs": [],
   "source": [
    "EPNS = sum(copt['x.p'])\n",
    "LOLP = sum(copt[copt['Perda de Carga'] > 0]['Probabilidade'])\n",
    "LOLE = LOLP * 8760\n",
    "EENS = EPNS * 8760"
   ]
  },
  {
   "cell_type": "code",
   "execution_count": 60,
   "metadata": {},
   "outputs": [
    {
     "name": "stdout",
     "output_type": "stream",
     "text": [
      "A LOLP do problema é: 0.07250000000000001\n",
      "A EPNS do problema é: 9.405282349345297 MW\n",
      "A LOLE do problema é: 635.1 horas\n",
      "A EENS do problema é: 82390.2733802648 MWh\n"
     ]
    }
   ],
   "source": [
    "print('A LOLP do problema é: {}'.format(LOLP))\n",
    "print('A EPNS do problema é: {} MW'.format(EPNS))\n",
    "print('A LOLE do problema é: {} horas'.format(LOLE))\n",
    "print('A EENS do problema é: {} MWh'.format(EENS))\n"
   ]
  }
 ],
 "metadata": {
  "kernelspec": {
   "display_name": "Python 3",
   "language": "python",
   "name": "python3"
  },
  "language_info": {
   "codemirror_mode": {
    "name": "ipython",
    "version": 3
   },
   "file_extension": ".py",
   "mimetype": "text/x-python",
   "name": "python",
   "nbconvert_exporter": "python",
   "pygments_lexer": "ipython3",
   "version": "3.11.4"
  },
  "orig_nbformat": 4
 },
 "nbformat": 4,
 "nbformat_minor": 2
}
