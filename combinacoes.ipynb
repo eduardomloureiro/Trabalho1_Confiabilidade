{
 "cells": [
  {
   "cell_type": "code",
   "execution_count": 16,
   "metadata": {},
   "outputs": [],
   "source": [
    "from itertools import combinations\n",
    "\n",
    "def obter_combinacoes_possiveis(valores):\n",
    "    combinacoes = []\n",
    "    combos = []\n",
    "    for i in range(3):\n",
    "        #  salvar combinations(valores, i) em uma variavel\n",
    "        combos.append(list(combinations(valores, i)))\n",
    "        for combo in combos[i]:\n",
    "            combinacoes.append(sum(combo))\n",
    "\n",
    "    # retornar combos e combinacoes\n",
    "    return combos, combinacoes\n",
    "\n",
    "\n"
   ]
  },
  {
   "cell_type": "code",
   "execution_count": 17,
   "metadata": {},
   "outputs": [
    {
     "name": "stdout",
     "output_type": "stream",
     "text": [
      "[[()], [(20,), (20,), (30,), (40,), (50,)], [(20, 20), (20, 30), (20, 40), (20, 50), (20, 30), (20, 40), (20, 50), (30, 40), (30, 50), (40, 50)]]\n",
      "[0, 20, 20, 30, 40, 50, 40, 50, 60, 70, 50, 60, 70, 70, 80, 90]\n"
     ]
    }
   ],
   "source": [
    "\n",
    "valores = [20,20,30,40,50]\n",
    "resultado, combinacoes = obter_combinacoes_possiveis(valores)\n",
    "print(resultado)\n",
    "print(combinacoes)\n"
   ]
  }
 ],
 "metadata": {
  "kernelspec": {
   "display_name": "Python 3",
   "language": "python",
   "name": "python3"
  },
  "language_info": {
   "codemirror_mode": {
    "name": "ipython",
    "version": 3
   },
   "file_extension": ".py",
   "mimetype": "text/x-python",
   "name": "python",
   "nbconvert_exporter": "python",
   "pygments_lexer": "ipython3",
   "version": "3.11.4"
  },
  "orig_nbformat": 4
 },
 "nbformat": 4,
 "nbformat_minor": 2
}
