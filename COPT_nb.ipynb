{
 "cells": [
  {
   "cell_type": "code",
   "execution_count": 332,
   "metadata": {},
   "outputs": [],
   "source": [
    "import numpy as np\n",
    "from scipy.stats import binom\n",
    "import pandas as pd\n",
    "from itertools import combinations, product\n",
    "\n",
    "carga = 2850"
   ]
  },
  {
   "cell_type": "code",
   "execution_count": 333,
   "metadata": {},
   "outputs": [],
   "source": [
    "class Agrupamento:\n",
    "    def __init__(self, pot, qtd, prob):\n",
    "        self.pot = pot\n",
    "        self.qtd = qtd\n",
    "        self.prob = prob\n",
    "        self.geraTabela()\n",
    "\n",
    "        self.pot_max = self.pot * self.qtd\n",
    "\n",
    "    def geraTabela(self):\n",
    "        self.resultados = []\n",
    "        self.iterado = []\n",
    "        for i in range(int(self.qtd) + 1):\n",
    "            self.resultados.append((i * self.pot, binom.pmf(i, int(self.qtd), self.prob)))\n",
    "            self.iterado.append(0)\n",
    "        self.usina = pd.DataFrame(self.resultados,columns=['Pot','Prob'])\n",
    "        self.usina['Iter'] = self.iterado\n",
    "        self.usina['IterAg'] = np.nan\n"
   ]
  },
  {
   "cell_type": "code",
   "execution_count": 334,
   "metadata": {},
   "outputs": [],
   "source": [
    "def Calcula_COPT(data, carga, falhas_simultaneas):\n",
    "    agrupamento = []\n",
    "    agrpot = []\n",
    "    agrprob = []\n",
    "    resul = []\n",
    "    usinas = []\n",
    "    geracao_total = 0\n",
    "    for i in range(len(data['Usina'])):\n",
    "        agrupamento.append(Agrupamento(data.loc[i]['Pot. Ativa Max'], data.loc[i]['Unidades'], data.loc[i]['FOR']))\n",
    "        agrpot.append(list(zip(*agrupamento[i].resultados))[0])\n",
    "        agrprob.append(list(zip(*agrupamento[i].resultados))[1])\n",
    "        usinas.append(agrupamento[i].usina)\n",
    "        geracao_total += data.loc[i]['Unidades']*data.loc[i]['Pot. Ativa Max']\n",
    "    \n",
    "    potencia_para_falta = geracao_total - carga\n",
    "    \n",
    "    lista = []\n",
    "    for i in range(len(usinas)):\n",
    "        for x in range(len(usinas[i])):\n",
    "            lista.append((i,x))\n",
    "\n",
    "    # se 'falhas_simultaneas' for um numero inteiro, usar apenas esse numero de falhas\n",
    "    if isinstance(falhas_simultaneas, int):\n",
    "        resultado_pot_teste = []\n",
    "        resultado_prob_teste = []\n",
    "        \n",
    "        n_usinas = len(usinas)\n",
    "        prod_prob = list(product(*agrprob))\n",
    "\n",
    "        for it, comb in enumerate(product(*agrpot)):\n",
    "\n",
    "            # o numero de zeros é o numero de usinas sem falha; \n",
    "            # caso haja mais usinas sem falha, armazenar a potencia e a probabilidade\n",
    "            if comb.count(0) >= n_usinas - falhas_simultaneas:\n",
    "                resultado_pot_teste.append(sum(comb))\n",
    "                resultado_prob_teste.append(np.prod(prod_prob[it]))\n",
    "\n",
    "            # caso haja mais usinas com falha, não armazenar. continua p/ proxima combinação\n",
    "\n",
    "\n",
    "    # se 'falhas_simultaneas' não for inteiro, fazer com todas as possibilidades\n",
    "    else:\n",
    "        resultado_pot_teste = []\n",
    "        for i in product(*agrpot):\n",
    "            resultado_pot_teste.append(sum(i))\n",
    "        resultado_prob_teste = []\n",
    "        for i in product(*agrprob):\n",
    "            resultado_prob_teste.append(np.prod(i))\n",
    "\n",
    "\n",
    "\n",
    "    copt = pd.DataFrame(resultado_pot_teste, columns=['Pot indisponivel'])\n",
    "    copt['Probabilidade'] = resultado_prob_teste\n",
    "    copt = copt.groupby(by = ['Pot indisponivel'], as_index = False).sum()\n",
    "    \n",
    "    perda_de_carga = []\n",
    "    \n",
    "    for i in range(len(copt)):\n",
    "        if copt.loc[i]['Pot indisponivel'] <=  potencia_para_falta:\n",
    "            perda_de_carga.append(0)\n",
    "        else:\n",
    "            perda_de_carga.append(abs(copt.loc[i]['Pot indisponivel'] - potencia_para_falta))\n",
    "    \n",
    "    \n",
    "    copt['Perda de Carga'] = perda_de_carga\n",
    "    copt['x.p'] = copt['Perda de Carga'] * copt['Probabilidade']\n",
    "    \n",
    "    EPNS = sum(copt['x.p'])\n",
    "    LOLP = sum(copt[copt['Perda de Carga'] > 0]['Probabilidade'])\n",
    "    LOLE = LOLP * 8760\n",
    "    EENS = EPNS * 8760\n",
    "    resul_copt = [EPNS, EENS, LOLP, LOLE]\n",
    "    return resul_copt,copt\n",
    "\n",
    "\n",
    "\n",
    "def pu(x):\n",
    "    return x/100"
   ]
  },
  {
   "cell_type": "code",
   "execution_count": 335,
   "metadata": {},
   "outputs": [],
   "source": [
    "# data = pd.read_excel('Gerac.xlsx')\n",
    "# data['FOR'] = data['FOR'].apply(pu)\n",
    "\n",
    "\n",
    "# Agrupar usinas que tenham as mesmas potências e FORs\n",
    "\n",
    "data = pd.read_excel('Gerac.xlsx')\n",
    "\n",
    "data2 = data.groupby(by = ['Pot. Ativa Max','FOR'], as_index=False, sort=False,group_keys=False)['Unidades'].sum().reset_index()\n",
    "data2['Usina'] = data['Usina']\n",
    "data = data2\n",
    "\n",
    "data['FOR'] = data['FOR'].apply(pu)\n",
    "\n",
    "# data"
   ]
  },
  {
   "cell_type": "code",
   "execution_count": 336,
   "metadata": {},
   "outputs": [],
   "source": [
    "dados_carga = pd.read_excel('dataframe_curva_de_carga.xlsx')\n",
    "\n",
    "# dados_carga"
   ]
  },
  {
   "cell_type": "code",
   "execution_count": 337,
   "metadata": {},
   "outputs": [],
   "source": [
    "# Número de falhas simultâneas ('all' para utilizar todas as combinações possíveis)\n",
    "FALHAS_SIMULTANEAS = 'all'"
   ]
  },
  {
   "cell_type": "code",
   "execution_count": 338,
   "metadata": {},
   "outputs": [],
   "source": [
    "EPNS = []\n",
    "EENS = []\n",
    "LOLP = []\n",
    "LOLE = []\n",
    "valores_de_carga = dados_carga['Valor de Carga'].values\n",
    "\n",
    "for n,i in enumerate(valores_de_carga):\n",
    "    result, copt = Calcula_COPT(data, carga*i/100, FALHAS_SIMULTANEAS)\n",
    "    EPNS.append(result[0]*dados_carga['Probabilidade'][n])\n",
    "    EENS.append(result[1]*dados_carga['Probabilidade'][n])\n",
    "    LOLP.append(result[2]*dados_carga['Probabilidade'][n])\n",
    "    LOLE.append(result[3]*dados_carga['Probabilidade'][n])\n",
    "    \n",
    "LOLP = sum(LOLP)\n",
    "EPNS = sum(EPNS)\n",
    "LOLE = sum(LOLE)\n",
    "EENS = sum(EENS)"
   ]
  },
  {
   "cell_type": "code",
   "execution_count": 339,
   "metadata": {},
   "outputs": [],
   "source": [
    "E_sob_curva = sum(dados_carga['Valor de Carga'] * dados_carga['Probabilidade'] * 8760) * carga\n",
    "\n",
    "EIR = 1 - EENS/E_sob_curva"
   ]
  },
  {
   "cell_type": "code",
   "execution_count": 340,
   "metadata": {},
   "outputs": [
    {
     "name": "stdout",
     "output_type": "stream",
     "text": [
      "LOLP:  0.02338138 \n",
      "EPNS:  3.63670173 \t MW \n",
      "LOLE:  204.82085416 \t h/ano \n",
      "EENS:  31857.50716941 \t MWh/ano \n",
      "EIR :  0.99998458\n"
     ]
    }
   ],
   "source": [
    "precisao = 8\n",
    "\n",
    "print(\"LOLP: \", round(LOLP, precisao),\n",
    "    \"\\nEPNS: \", round(EPNS, precisao), \"\\t MW\",\n",
    "    \"\\nLOLE: \", round(LOLE, precisao), \"\\t h/ano\",\n",
    "    \"\\nEENS: \", round(EENS, precisao), \"\\t MWh/ano\",\n",
    "    \"\\nEIR : \", round(EIR , precisao))"
   ]
  }
 ],
 "metadata": {
  "kernelspec": {
   "display_name": "Python 3",
   "language": "python",
   "name": "python3"
  },
  "language_info": {
   "codemirror_mode": {
    "name": "ipython",
    "version": 3
   },
   "file_extension": ".py",
   "mimetype": "text/x-python",
   "name": "python",
   "nbconvert_exporter": "python",
   "pygments_lexer": "ipython3",
   "version": "3.11.4"
  },
  "orig_nbformat": 4
 },
 "nbformat": 4,
 "nbformat_minor": 2
}
