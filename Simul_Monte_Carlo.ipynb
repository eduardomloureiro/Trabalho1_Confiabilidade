{
 "cells": [
  {
   "cell_type": "markdown",
   "metadata": {},
   "source": [
    "# Simulações de Monte Carlo"
   ]
  },
  {
   "cell_type": "markdown",
   "metadata": {},
   "source": [
    "Este código é uma implementação do método de Simulação de Monte Carlo Não-Sequencial para a estimação dos índices anuais de confiabilidade:\n",
    "\n",
    "- LOLP\n",
    "\n",
    "- LOLE\n",
    "\n",
    "- EPNS\n",
    "\n",
    "- EENS\n",
    "\n",
    "- EIR"
   ]
  },
  {
   "cell_type": "markdown",
   "metadata": {},
   "source": [
    "### Importar bibliotecas"
   ]
  },
  {
   "cell_type": "code",
   "execution_count": 1,
   "metadata": {},
   "outputs": [],
   "source": [
    "import numpy as np\n",
    "import plotly.express as px\n",
    "import pandas as pd\n",
    "import openpyxl"
   ]
  },
  {
   "cell_type": "markdown",
   "metadata": {},
   "source": [
    "### Entrada de dados"
   ]
  },
  {
   "cell_type": "markdown",
   "metadata": {},
   "source": [
    "A leitura dos dados das usinas é feita a partir do arquivo \"Gerac.xlsx\"."
   ]
  },
  {
   "cell_type": "code",
   "execution_count": 2,
   "metadata": {},
   "outputs": [],
   "source": [
    "data = pd.read_excel('Gerac.xlsx', usecols=[0, 1, 2, 4])\n",
    "\n",
    "# Dados das usinas\n",
    "DUSI = np.array(data)\n",
    "\n",
    "# data"
   ]
  },
  {
   "cell_type": "markdown",
   "metadata": {},
   "source": [
    "A leitura dos dados da curva de carga é feita a partir do arquivo \"dataframe_curva_de_carga.xlsx\". \n",
    "\n",
    "Este arquivo é gerado a partir do arquivo \"ler_curva.ipynb\", que, para isso, lê os dados do arquivo \"curva de carga.xlsx\"."
   ]
  },
  {
   "cell_type": "code",
   "execution_count": 3,
   "metadata": {},
   "outputs": [],
   "source": [
    "# Carga a ser atendida\n",
    "PLOAD = 2850  # MW\n",
    "\n",
    "\n",
    "dados_carga = pd.read_excel('dataframe_curva_de_carga.xlsx')\n",
    "\n",
    "# Dados da carga\n",
    "DLOAD = np.array(dados_carga)\n",
    "\n",
    "# dados_carga"
   ]
  },
  {
   "cell_type": "markdown",
   "metadata": {},
   "source": [
    "### Interpretar dados de entrada "
   ]
  },
  {
   "cell_type": "markdown",
   "metadata": {},
   "source": [
    "##### Usinas"
   ]
  },
  {
   "cell_type": "code",
   "execution_count": 4,
   "metadata": {},
   "outputs": [],
   "source": [
    "usinas = DUSI[:, 0]\n",
    "n_unidades = DUSI[:, 1]\n",
    "FOR = DUSI[:, 2] / 100\n",
    "pot = DUSI[:, 3]\n",
    "\n",
    "n_usinas = len(usinas)\n",
    "capacidade_usinas = n_unidades * pot\n",
    "capacidade_total = sum(capacidade_usinas)  # total do sistema\n",
    "\n",
    "# print('Usinas: ', usinas)\n",
    "# print('Número de unidades: ', n_unidades)\n",
    "# print('Potência: ', pot)\n",
    "# print('FOR: ', FOR)\n",
    "# print('Capacidade total: ', capacidade_total)\n",
    "# print('Capacidade usinas: ', capacidade_usinas)"
   ]
  },
  {
   "cell_type": "markdown",
   "metadata": {},
   "source": [
    "##### Curva de carga"
   ]
  },
  {
   "cell_type": "code",
   "execution_count": 5,
   "metadata": {},
   "outputs": [],
   "source": [
    "\n",
    "# Sort DLOAD by the fourth column (ascending order)\n",
    "DLOAD = DLOAD[DLOAD[:, 3].argsort()]\n",
    "\n",
    "patamares = DLOAD[:, 0]\n",
    "niveis = DLOAD[:, 1] / 100\n",
    "p_patamar = DLOAD[:, 2]  # probabilidade de cada patamar\n",
    "p_patamar_acumulado = DLOAD[:, 3]  # probabilidade acumulada\n",
    "\n",
    "# número de patamares\n",
    "n_patamares = len(patamares)\n",
    "\n",
    "niveis_str = [str(int(100*nivel)) for nivel in niveis]\n",
    "\n",
    "# print('Patamares de carga: ', patamares)\n",
    "# print('Níveis de carga: ', niveis)\n",
    "# print('Prob. patamar: ', p_patamar)\n",
    "# print('Prob. acumulada: ', p_patamar_acumulado)\n",
    "# print('Patamares em string: ', niveis_str)\n"
   ]
  },
  {
   "cell_type": "markdown",
   "metadata": {},
   "source": [
    "Plotar gráfico com a probabilidade acumulada dos patamares de carga:"
   ]
  },
  {
   "cell_type": "code",
   "execution_count": 6,
   "metadata": {},
   "outputs": [
    {
     "data": {
      "application/vnd.plotly.v1+json": {
       "config": {
        "plotlyServerURL": "https://plot.ly"
       },
       "data": [
        {
         "hovertemplate": "Patamar=%{x}<br>Probabilidade=%{y}<extra></extra>",
         "legendgroup": "",
         "line": {
          "color": "#636efa",
          "dash": "solid",
          "shape": "hv"
         },
         "marker": {
          "symbol": "circle"
         },
         "mode": "lines",
         "name": "",
         "orientation": "v",
         "showlegend": false,
         "type": "scatter",
         "x": [
          " ",
          "78",
          "75",
          "69",
          "89",
          "81",
          "76",
          "68",
          "98",
          "56",
          "73",
          "83",
          "97",
          "74",
          "86",
          "62",
          "66",
          "70",
          "80",
          "67",
          "64",
          "94",
          "85",
          "72",
          "87",
          "57",
          "88",
          "65",
          "91",
          "59",
          "63",
          "60",
          "93",
          "99",
          "92",
          "95",
          "90",
          "100",
          "96",
          "  "
         ],
         "xaxis": "x",
         "y": [
          0,
          0.003881278538812785,
          0.008904109589041096,
          0.01392694063926941,
          0.01894977168949772,
          0.02579908675799087,
          0.03321917808219178,
          0.04212328767123288,
          0.05468036529680365,
          0.06952054794520549,
          0.08436073059360731,
          0.09920091324200914,
          0.1155251141552511,
          0.1333333333333333,
          0.1511415525114155,
          0.169634703196347,
          0.1883561643835616,
          0.2077625570776256,
          0.2271689497716895,
          0.2468036529680365,
          0.2684931506849315,
          0.2901826484018265,
          0.3127853881278539,
          0.3366438356164383,
          0.3631278538812786,
          0.3905251141552512,
          0.4188356164383562,
          0.4482876712328767,
          0.4797945205479452,
          0.511986301369863,
          0.5441780821917808,
          0.5837899543378995,
          0.6299086757990867,
          0.6835616438356164,
          0.7433789954337898,
          0.8037671232876711,
          0.8642694063926939,
          0.9305936073059359,
          0.9999999999999998,
          1
         ],
         "yaxis": "y"
        }
       ],
       "layout": {
        "height": 400,
        "legend": {
         "tracegroupgap": 0
        },
        "template": {
         "data": {
          "bar": [
           {
            "error_x": {
             "color": "#2a3f5f"
            },
            "error_y": {
             "color": "#2a3f5f"
            },
            "marker": {
             "line": {
              "color": "#E5ECF6",
              "width": 0.5
             },
             "pattern": {
              "fillmode": "overlay",
              "size": 10,
              "solidity": 0.2
             }
            },
            "type": "bar"
           }
          ],
          "barpolar": [
           {
            "marker": {
             "line": {
              "color": "#E5ECF6",
              "width": 0.5
             },
             "pattern": {
              "fillmode": "overlay",
              "size": 10,
              "solidity": 0.2
             }
            },
            "type": "barpolar"
           }
          ],
          "carpet": [
           {
            "aaxis": {
             "endlinecolor": "#2a3f5f",
             "gridcolor": "white",
             "linecolor": "white",
             "minorgridcolor": "white",
             "startlinecolor": "#2a3f5f"
            },
            "baxis": {
             "endlinecolor": "#2a3f5f",
             "gridcolor": "white",
             "linecolor": "white",
             "minorgridcolor": "white",
             "startlinecolor": "#2a3f5f"
            },
            "type": "carpet"
           }
          ],
          "choropleth": [
           {
            "colorbar": {
             "outlinewidth": 0,
             "ticks": ""
            },
            "type": "choropleth"
           }
          ],
          "contour": [
           {
            "colorbar": {
             "outlinewidth": 0,
             "ticks": ""
            },
            "colorscale": [
             [
              0,
              "#0d0887"
             ],
             [
              0.1111111111111111,
              "#46039f"
             ],
             [
              0.2222222222222222,
              "#7201a8"
             ],
             [
              0.3333333333333333,
              "#9c179e"
             ],
             [
              0.4444444444444444,
              "#bd3786"
             ],
             [
              0.5555555555555556,
              "#d8576b"
             ],
             [
              0.6666666666666666,
              "#ed7953"
             ],
             [
              0.7777777777777778,
              "#fb9f3a"
             ],
             [
              0.8888888888888888,
              "#fdca26"
             ],
             [
              1,
              "#f0f921"
             ]
            ],
            "type": "contour"
           }
          ],
          "contourcarpet": [
           {
            "colorbar": {
             "outlinewidth": 0,
             "ticks": ""
            },
            "type": "contourcarpet"
           }
          ],
          "heatmap": [
           {
            "colorbar": {
             "outlinewidth": 0,
             "ticks": ""
            },
            "colorscale": [
             [
              0,
              "#0d0887"
             ],
             [
              0.1111111111111111,
              "#46039f"
             ],
             [
              0.2222222222222222,
              "#7201a8"
             ],
             [
              0.3333333333333333,
              "#9c179e"
             ],
             [
              0.4444444444444444,
              "#bd3786"
             ],
             [
              0.5555555555555556,
              "#d8576b"
             ],
             [
              0.6666666666666666,
              "#ed7953"
             ],
             [
              0.7777777777777778,
              "#fb9f3a"
             ],
             [
              0.8888888888888888,
              "#fdca26"
             ],
             [
              1,
              "#f0f921"
             ]
            ],
            "type": "heatmap"
           }
          ],
          "heatmapgl": [
           {
            "colorbar": {
             "outlinewidth": 0,
             "ticks": ""
            },
            "colorscale": [
             [
              0,
              "#0d0887"
             ],
             [
              0.1111111111111111,
              "#46039f"
             ],
             [
              0.2222222222222222,
              "#7201a8"
             ],
             [
              0.3333333333333333,
              "#9c179e"
             ],
             [
              0.4444444444444444,
              "#bd3786"
             ],
             [
              0.5555555555555556,
              "#d8576b"
             ],
             [
              0.6666666666666666,
              "#ed7953"
             ],
             [
              0.7777777777777778,
              "#fb9f3a"
             ],
             [
              0.8888888888888888,
              "#fdca26"
             ],
             [
              1,
              "#f0f921"
             ]
            ],
            "type": "heatmapgl"
           }
          ],
          "histogram": [
           {
            "marker": {
             "pattern": {
              "fillmode": "overlay",
              "size": 10,
              "solidity": 0.2
             }
            },
            "type": "histogram"
           }
          ],
          "histogram2d": [
           {
            "colorbar": {
             "outlinewidth": 0,
             "ticks": ""
            },
            "colorscale": [
             [
              0,
              "#0d0887"
             ],
             [
              0.1111111111111111,
              "#46039f"
             ],
             [
              0.2222222222222222,
              "#7201a8"
             ],
             [
              0.3333333333333333,
              "#9c179e"
             ],
             [
              0.4444444444444444,
              "#bd3786"
             ],
             [
              0.5555555555555556,
              "#d8576b"
             ],
             [
              0.6666666666666666,
              "#ed7953"
             ],
             [
              0.7777777777777778,
              "#fb9f3a"
             ],
             [
              0.8888888888888888,
              "#fdca26"
             ],
             [
              1,
              "#f0f921"
             ]
            ],
            "type": "histogram2d"
           }
          ],
          "histogram2dcontour": [
           {
            "colorbar": {
             "outlinewidth": 0,
             "ticks": ""
            },
            "colorscale": [
             [
              0,
              "#0d0887"
             ],
             [
              0.1111111111111111,
              "#46039f"
             ],
             [
              0.2222222222222222,
              "#7201a8"
             ],
             [
              0.3333333333333333,
              "#9c179e"
             ],
             [
              0.4444444444444444,
              "#bd3786"
             ],
             [
              0.5555555555555556,
              "#d8576b"
             ],
             [
              0.6666666666666666,
              "#ed7953"
             ],
             [
              0.7777777777777778,
              "#fb9f3a"
             ],
             [
              0.8888888888888888,
              "#fdca26"
             ],
             [
              1,
              "#f0f921"
             ]
            ],
            "type": "histogram2dcontour"
           }
          ],
          "mesh3d": [
           {
            "colorbar": {
             "outlinewidth": 0,
             "ticks": ""
            },
            "type": "mesh3d"
           }
          ],
          "parcoords": [
           {
            "line": {
             "colorbar": {
              "outlinewidth": 0,
              "ticks": ""
             }
            },
            "type": "parcoords"
           }
          ],
          "pie": [
           {
            "automargin": true,
            "type": "pie"
           }
          ],
          "scatter": [
           {
            "fillpattern": {
             "fillmode": "overlay",
             "size": 10,
             "solidity": 0.2
            },
            "type": "scatter"
           }
          ],
          "scatter3d": [
           {
            "line": {
             "colorbar": {
              "outlinewidth": 0,
              "ticks": ""
             }
            },
            "marker": {
             "colorbar": {
              "outlinewidth": 0,
              "ticks": ""
             }
            },
            "type": "scatter3d"
           }
          ],
          "scattercarpet": [
           {
            "marker": {
             "colorbar": {
              "outlinewidth": 0,
              "ticks": ""
             }
            },
            "type": "scattercarpet"
           }
          ],
          "scattergeo": [
           {
            "marker": {
             "colorbar": {
              "outlinewidth": 0,
              "ticks": ""
             }
            },
            "type": "scattergeo"
           }
          ],
          "scattergl": [
           {
            "marker": {
             "colorbar": {
              "outlinewidth": 0,
              "ticks": ""
             }
            },
            "type": "scattergl"
           }
          ],
          "scattermapbox": [
           {
            "marker": {
             "colorbar": {
              "outlinewidth": 0,
              "ticks": ""
             }
            },
            "type": "scattermapbox"
           }
          ],
          "scatterpolar": [
           {
            "marker": {
             "colorbar": {
              "outlinewidth": 0,
              "ticks": ""
             }
            },
            "type": "scatterpolar"
           }
          ],
          "scatterpolargl": [
           {
            "marker": {
             "colorbar": {
              "outlinewidth": 0,
              "ticks": ""
             }
            },
            "type": "scatterpolargl"
           }
          ],
          "scatterternary": [
           {
            "marker": {
             "colorbar": {
              "outlinewidth": 0,
              "ticks": ""
             }
            },
            "type": "scatterternary"
           }
          ],
          "surface": [
           {
            "colorbar": {
             "outlinewidth": 0,
             "ticks": ""
            },
            "colorscale": [
             [
              0,
              "#0d0887"
             ],
             [
              0.1111111111111111,
              "#46039f"
             ],
             [
              0.2222222222222222,
              "#7201a8"
             ],
             [
              0.3333333333333333,
              "#9c179e"
             ],
             [
              0.4444444444444444,
              "#bd3786"
             ],
             [
              0.5555555555555556,
              "#d8576b"
             ],
             [
              0.6666666666666666,
              "#ed7953"
             ],
             [
              0.7777777777777778,
              "#fb9f3a"
             ],
             [
              0.8888888888888888,
              "#fdca26"
             ],
             [
              1,
              "#f0f921"
             ]
            ],
            "type": "surface"
           }
          ],
          "table": [
           {
            "cells": {
             "fill": {
              "color": "#EBF0F8"
             },
             "line": {
              "color": "white"
             }
            },
            "header": {
             "fill": {
              "color": "#C8D4E3"
             },
             "line": {
              "color": "white"
             }
            },
            "type": "table"
           }
          ]
         },
         "layout": {
          "annotationdefaults": {
           "arrowcolor": "#2a3f5f",
           "arrowhead": 0,
           "arrowwidth": 1
          },
          "autotypenumbers": "strict",
          "coloraxis": {
           "colorbar": {
            "outlinewidth": 0,
            "ticks": ""
           }
          },
          "colorscale": {
           "diverging": [
            [
             0,
             "#8e0152"
            ],
            [
             0.1,
             "#c51b7d"
            ],
            [
             0.2,
             "#de77ae"
            ],
            [
             0.3,
             "#f1b6da"
            ],
            [
             0.4,
             "#fde0ef"
            ],
            [
             0.5,
             "#f7f7f7"
            ],
            [
             0.6,
             "#e6f5d0"
            ],
            [
             0.7,
             "#b8e186"
            ],
            [
             0.8,
             "#7fbc41"
            ],
            [
             0.9,
             "#4d9221"
            ],
            [
             1,
             "#276419"
            ]
           ],
           "sequential": [
            [
             0,
             "#0d0887"
            ],
            [
             0.1111111111111111,
             "#46039f"
            ],
            [
             0.2222222222222222,
             "#7201a8"
            ],
            [
             0.3333333333333333,
             "#9c179e"
            ],
            [
             0.4444444444444444,
             "#bd3786"
            ],
            [
             0.5555555555555556,
             "#d8576b"
            ],
            [
             0.6666666666666666,
             "#ed7953"
            ],
            [
             0.7777777777777778,
             "#fb9f3a"
            ],
            [
             0.8888888888888888,
             "#fdca26"
            ],
            [
             1,
             "#f0f921"
            ]
           ],
           "sequentialminus": [
            [
             0,
             "#0d0887"
            ],
            [
             0.1111111111111111,
             "#46039f"
            ],
            [
             0.2222222222222222,
             "#7201a8"
            ],
            [
             0.3333333333333333,
             "#9c179e"
            ],
            [
             0.4444444444444444,
             "#bd3786"
            ],
            [
             0.5555555555555556,
             "#d8576b"
            ],
            [
             0.6666666666666666,
             "#ed7953"
            ],
            [
             0.7777777777777778,
             "#fb9f3a"
            ],
            [
             0.8888888888888888,
             "#fdca26"
            ],
            [
             1,
             "#f0f921"
            ]
           ]
          },
          "colorway": [
           "#636efa",
           "#EF553B",
           "#00cc96",
           "#ab63fa",
           "#FFA15A",
           "#19d3f3",
           "#FF6692",
           "#B6E880",
           "#FF97FF",
           "#FECB52"
          ],
          "font": {
           "color": "#2a3f5f"
          },
          "geo": {
           "bgcolor": "white",
           "lakecolor": "white",
           "landcolor": "#E5ECF6",
           "showlakes": true,
           "showland": true,
           "subunitcolor": "white"
          },
          "hoverlabel": {
           "align": "left"
          },
          "hovermode": "closest",
          "mapbox": {
           "style": "light"
          },
          "paper_bgcolor": "white",
          "plot_bgcolor": "#E5ECF6",
          "polar": {
           "angularaxis": {
            "gridcolor": "white",
            "linecolor": "white",
            "ticks": ""
           },
           "bgcolor": "#E5ECF6",
           "radialaxis": {
            "gridcolor": "white",
            "linecolor": "white",
            "ticks": ""
           }
          },
          "scene": {
           "xaxis": {
            "backgroundcolor": "#E5ECF6",
            "gridcolor": "white",
            "gridwidth": 2,
            "linecolor": "white",
            "showbackground": true,
            "ticks": "",
            "zerolinecolor": "white"
           },
           "yaxis": {
            "backgroundcolor": "#E5ECF6",
            "gridcolor": "white",
            "gridwidth": 2,
            "linecolor": "white",
            "showbackground": true,
            "ticks": "",
            "zerolinecolor": "white"
           },
           "zaxis": {
            "backgroundcolor": "#E5ECF6",
            "gridcolor": "white",
            "gridwidth": 2,
            "linecolor": "white",
            "showbackground": true,
            "ticks": "",
            "zerolinecolor": "white"
           }
          },
          "shapedefaults": {
           "line": {
            "color": "#2a3f5f"
           }
          },
          "ternary": {
           "aaxis": {
            "gridcolor": "white",
            "linecolor": "white",
            "ticks": ""
           },
           "baxis": {
            "gridcolor": "white",
            "linecolor": "white",
            "ticks": ""
           },
           "bgcolor": "#E5ECF6",
           "caxis": {
            "gridcolor": "white",
            "linecolor": "white",
            "ticks": ""
           }
          },
          "title": {
           "x": 0.05
          },
          "xaxis": {
           "automargin": true,
           "gridcolor": "white",
           "linecolor": "white",
           "ticks": "",
           "title": {
            "standoff": 15
           },
           "zerolinecolor": "white",
           "zerolinewidth": 2
          },
          "yaxis": {
           "automargin": true,
           "gridcolor": "white",
           "linecolor": "white",
           "ticks": "",
           "title": {
            "standoff": 15
           },
           "zerolinecolor": "white",
           "zerolinewidth": 2
          }
         }
        },
        "title": {
         "text": "Probabilidade por patamar"
        },
        "width": 600,
        "xaxis": {
         "anchor": "y",
         "domain": [
          0,
          1
         ],
         "tickvals": [
          "78",
          "75",
          "69",
          "89",
          "81",
          "76",
          "68",
          "98",
          "56",
          "73",
          "83",
          "97",
          "74",
          "86",
          "62",
          "66",
          "70",
          "80",
          "67",
          "64",
          "94",
          "85",
          "72",
          "87",
          "57",
          "88",
          "65",
          "91",
          "59",
          "63",
          "60",
          "93",
          "99",
          "92",
          "95",
          "90",
          "100",
          "96"
         ],
         "title": {
          "text": "Patamar"
         }
        },
        "yaxis": {
         "anchor": "x",
         "domain": [
          0,
          1
         ],
         "tickvals": [
          0,
          0.1,
          0.2,
          0.30000000000000004,
          0.4,
          0.5,
          0.6000000000000001,
          0.7000000000000001,
          0.8,
          0.9,
          1
         ],
         "title": {
          "text": "Probabilidade"
         }
        }
       }
      }
     },
     "metadata": {},
     "output_type": "display_data"
    }
   ],
   "source": [
    "\n",
    "df = pd.DataFrame({\n",
    "    'Patamar': [' '] + niveis_str + ['  '],\n",
    "    'Probabilidade': [0] + list(p_patamar_acumulado) + [1]\n",
    "})\n",
    "\n",
    "fig = px.line(df, x='Patamar', y='Probabilidade', title='Probabilidade por patamar',line_shape='hv')\n",
    "\n",
    "# formatação do gráfico\n",
    "altura = 400\n",
    "fig.update_layout(height=altura, width=altura*1.5)\n",
    "fig.update_xaxes(tickvals=niveis_str)\n",
    "fig.update_yaxes(tickvals=np.arange(0, 1.1, 0.1))\n",
    "fig.show()"
   ]
  },
  {
   "cell_type": "markdown",
   "metadata": {},
   "source": [
    "### **Algoritmo Principal**"
   ]
  },
  {
   "cell_type": "markdown",
   "metadata": {},
   "source": [
    "Definir tolerância de convergência e os números máximo e mínimo de iterações."
   ]
  },
  {
   "cell_type": "code",
   "execution_count": 7,
   "metadata": {},
   "outputs": [],
   "source": [
    "tol = 0.005\n",
    "NSmax = 1e7\n",
    "NSmin = 100"
   ]
  },
  {
   "cell_type": "markdown",
   "metadata": {},
   "source": [
    "Execução das simulações de Monte Carlo."
   ]
  },
  {
   "cell_type": "code",
   "execution_count": 8,
   "metadata": {},
   "outputs": [],
   "source": [
    "\n",
    "beta_LOLP = tol + 1\n",
    "NS = 0\n",
    "soma_LOLP = 0\n",
    "soma_quad_LOLP = 0\n",
    "soma_EPNS = 0\n",
    "\n",
    "while beta_LOLP > tol and NS < NSmax:\n",
    "    NS += 1\n",
    "    capacidade = capacidade_total\n",
    "\n",
    "    U_carga = np.random.rand()\n",
    "\n",
    "    carga = PLOAD\n",
    "    for patamar in range(n_patamares):\n",
    "        if U_carga < p_patamar_acumulado[patamar]:\n",
    "            carga = PLOAD * niveis[patamar]\n",
    "            break\n",
    "\n",
    "\n",
    "    for usi in range(n_usinas):\n",
    "        for unid in range(n_unidades[usi]):\n",
    "            Ui = np.random.rand()\n",
    "            if Ui < FOR[usi]:\n",
    "                capacidade -= pot[usi]\n",
    "                \n",
    "    if capacidade < carga:\n",
    "        # LOLP\n",
    "        soma_LOLP += 1\n",
    "        soma_quad_LOLP += 1 ** 2  # p/ convergencia\n",
    "\n",
    "        # EPNS\n",
    "        soma_EPNS += (carga - capacidade)\n",
    "\n",
    "    v_esperado_LOLP = soma_LOLP / NS  # --> RESPOSTA\n",
    "    v_esperado_EPNS = soma_EPNS / NS\n",
    "\n",
    "    # convergencia\n",
    "    if NS > NSmin:\n",
    "        variancia_LOLP = (soma_quad_LOLP - NS * v_esperado_LOLP**2) / (NS - 1)\n",
    "        variancia_do_valor_esperado_LOLP = variancia_LOLP / NS\n",
    "        beta_LOLP = np.sqrt(variancia_do_valor_esperado_LOLP) / v_esperado_LOLP\n",
    "        if np.isnan(beta_LOLP):\n",
    "            beta_LOLP = np.inf\n"
   ]
  },
  {
   "cell_type": "markdown",
   "metadata": {},
   "source": [
    "### Resultados "
   ]
  },
  {
   "cell_type": "markdown",
   "metadata": {},
   "source": [
    "Obtenção dos valores finais dos índices:\n"
   ]
  },
  {
   "cell_type": "code",
   "execution_count": 9,
   "metadata": {},
   "outputs": [],
   "source": [
    "precisao = 8\n",
    "\n",
    "LOLP = v_esperado_LOLP\n",
    "EPNS = v_esperado_EPNS\n",
    "LOLE = LOLP * 8760\n",
    "EENS = EPNS * 8760\n",
    "\n",
    "\n",
    "E_sob_curva = sum(100 * niveis * p_patamar * 8760) * carga\n",
    "\n",
    "EIR = 1 - EENS/E_sob_curva"
   ]
  },
  {
   "cell_type": "markdown",
   "metadata": {},
   "source": [
    "#### Exibição dos Índices"
   ]
  },
  {
   "cell_type": "code",
   "execution_count": 10,
   "metadata": {},
   "outputs": [
    {
     "name": "stdout",
     "output_type": "stream",
     "text": [
      "LOLP:  0.0232535 \n",
      "EPNS:  3.60667983 \t MW \n",
      "LOLE:  203.70068154 \t h/ano \n",
      "EENS:  31594.51532785 \t MWh/ano \n",
      "EIR :  0.9999847\n"
     ]
    }
   ],
   "source": [
    "print(\"LOLP: \", round(LOLP, precisao),\n",
    "    \"\\nEPNS: \", round(EPNS, precisao), \"\\t MW\",\n",
    "    \"\\nLOLE: \", round(LOLE, precisao), \"\\t h/ano\",\n",
    "    \"\\nEENS: \", round(EENS, precisao), \"\\t MWh/ano\",\n",
    "    \"\\nEIR : \", round(EIR , precisao))"
   ]
  },
  {
   "cell_type": "markdown",
   "metadata": {},
   "source": [
    "#### Informações da Convergência"
   ]
  },
  {
   "cell_type": "markdown",
   "metadata": {},
   "source": [
    "Número de iterações e Beta_LOLP final."
   ]
  },
  {
   "cell_type": "code",
   "execution_count": 11,
   "metadata": {},
   "outputs": [
    {
     "name": "stdout",
     "output_type": "stream",
     "text": [
      "NS = 1680177 \n",
      "beta_LOLP = 0.00499999\n"
     ]
    }
   ],
   "source": [
    "print('NS =', NS, \n",
    "'\\nbeta_LOLP =', round(beta_LOLP, precisao))"
   ]
  },
  {
   "cell_type": "code",
   "execution_count": 12,
   "metadata": {},
   "outputs": [
    {
     "data": {
      "text/html": [
       "<style type=\"text/css\">\n",
       "#T_ae765 th {\n",
       "  text-align: left;\n",
       "}\n",
       "#T_ae765_row0_col0, #T_ae765_row1_col0, #T_ae765_row2_col0, #T_ae765_row3_col0, #T_ae765_row4_col0 {\n",
       "  text-align: left;\n",
       "}\n",
       "</style>\n",
       "<table id=\"T_ae765\">\n",
       "  <thead>\n",
       "    <tr>\n",
       "      <th class=\"blank level0\" >&nbsp;</th>\n",
       "      <th id=\"T_ae765_level0_col0\" class=\"col_heading level0 col0\" >Valor</th>\n",
       "    </tr>\n",
       "  </thead>\n",
       "  <tbody>\n",
       "    <tr>\n",
       "      <th id=\"T_ae765_level0_row0\" class=\"row_heading level0 row0\" >LOLP</th>\n",
       "      <td id=\"T_ae765_row0_col0\" class=\"data row0 col0\" >0.023254</td>\n",
       "    </tr>\n",
       "    <tr>\n",
       "      <th id=\"T_ae765_level0_row1\" class=\"row_heading level0 row1\" >EPNS (MW)</th>\n",
       "      <td id=\"T_ae765_row1_col0\" class=\"data row1 col0\" >3.606680</td>\n",
       "    </tr>\n",
       "    <tr>\n",
       "      <th id=\"T_ae765_level0_row2\" class=\"row_heading level0 row2\" >LOLE (h/ano)</th>\n",
       "      <td id=\"T_ae765_row2_col0\" class=\"data row2 col0\" >203.700682</td>\n",
       "    </tr>\n",
       "    <tr>\n",
       "      <th id=\"T_ae765_level0_row3\" class=\"row_heading level0 row3\" >EENS (MWh/ano)</th>\n",
       "      <td id=\"T_ae765_row3_col0\" class=\"data row3 col0\" >31594.515328</td>\n",
       "    </tr>\n",
       "    <tr>\n",
       "      <th id=\"T_ae765_level0_row4\" class=\"row_heading level0 row4\" >EIR</th>\n",
       "      <td id=\"T_ae765_row4_col0\" class=\"data row4 col0\" >0.999985</td>\n",
       "    </tr>\n",
       "  </tbody>\n",
       "</table>\n"
      ],
      "text/plain": [
       "<pandas.io.formats.style.Styler at 0x1a8302cb9d0>"
      ]
     },
     "execution_count": 12,
     "metadata": {},
     "output_type": "execute_result"
    }
   ],
   "source": [
    "# criar um dataframe com os resultados, no qual os indices são os resultados e as colunas são os valores\n",
    "\n",
    "resultado = pd.DataFrame([LOLP, EPNS, LOLE, EENS, EIR], index=['LOLP', 'EPNS (MW)', 'LOLE (h/ano)', 'EENS (MWh/ano)', 'EIR'], columns=['Valor'])\n",
    "\n",
    "# alinhar à esquerda\n",
    "resultado = resultado.style.set_properties(**{'text-align': 'left'}).set_table_styles([dict(selector='th', props=[('text-align', 'left')])])\n",
    "\n",
    "resultado"
   ]
  },
  {
   "cell_type": "code",
   "execution_count": 13,
   "metadata": {},
   "outputs": [],
   "source": [
    "# apagar a planilha \"SMC\" do arquivo \"Resultados.xlsx\"\n",
    "wb = openpyxl.load_workbook('Resultados.xlsx')\n",
    "if 'SMC' in wb.sheetnames:\n",
    "    wb.remove(wb['SMC'])\n",
    "    wb.save('Resultados.xlsx')\n",
    "wb.close()\n",
    "\n",
    "# escrever o resultado na planilha \"SMC\" do arquivo \"Resultados.xlsx\", sem apagar o que já está escrito\n",
    "writer = pd.ExcelWriter('Resultados.xlsx', engine='openpyxl', mode='a')\n",
    "resultado.to_excel(writer, sheet_name='SMC')\n",
    "writer.close()"
   ]
  }
 ],
 "metadata": {
  "kernelspec": {
   "display_name": "Python 3",
   "language": "python",
   "name": "python3"
  },
  "language_info": {
   "codemirror_mode": {
    "name": "ipython",
    "version": 3
   },
   "file_extension": ".py",
   "mimetype": "text/x-python",
   "name": "python",
   "nbconvert_exporter": "python",
   "pygments_lexer": "ipython3",
   "version": "3.11.4"
  }
 },
 "nbformat": 4,
 "nbformat_minor": 2
}
