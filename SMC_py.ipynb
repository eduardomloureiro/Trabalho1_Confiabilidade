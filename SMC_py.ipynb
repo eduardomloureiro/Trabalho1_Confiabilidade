{
 "cells": [
  {
   "cell_type": "markdown",
   "metadata": {},
   "source": [
    "# Simulações de Monte Carlo"
   ]
  },
  {
   "cell_type": "markdown",
   "metadata": {},
   "source": [
    "### Importar bibliotecas"
   ]
  },
  {
   "cell_type": "code",
   "execution_count": 4,
   "metadata": {},
   "outputs": [],
   "source": [
    "import numpy as np\n",
    "import plotly.express as px\n",
    "import pandas as pd"
   ]
  },
  {
   "cell_type": "markdown",
   "metadata": {},
   "source": [
    "### Entrada de dados"
   ]
  },
  {
   "cell_type": "markdown",
   "metadata": {},
   "source": [
    "Lê dados de geração do arquivo Gerac.xlsx e armazena em um dataframe."
   ]
  },
  {
   "cell_type": "code",
   "execution_count": 5,
   "metadata": {},
   "outputs": [
    {
     "data": {
      "text/html": [
       "<div>\n",
       "<style scoped>\n",
       "    .dataframe tbody tr th:only-of-type {\n",
       "        vertical-align: middle;\n",
       "    }\n",
       "\n",
       "    .dataframe tbody tr th {\n",
       "        vertical-align: top;\n",
       "    }\n",
       "\n",
       "    .dataframe thead th {\n",
       "        text-align: right;\n",
       "    }\n",
       "</style>\n",
       "<table border=\"1\" class=\"dataframe\">\n",
       "  <thead>\n",
       "    <tr style=\"text-align: right;\">\n",
       "      <th></th>\n",
       "      <th>Usina</th>\n",
       "      <th>Unidades</th>\n",
       "      <th>FOR</th>\n",
       "      <th>Pot. Ativa Max</th>\n",
       "    </tr>\n",
       "  </thead>\n",
       "  <tbody>\n",
       "    <tr>\n",
       "      <th>0</th>\n",
       "      <td>1</td>\n",
       "      <td>5</td>\n",
       "      <td>2</td>\n",
       "      <td>12</td>\n",
       "    </tr>\n",
       "    <tr>\n",
       "      <th>1</th>\n",
       "      <td>2</td>\n",
       "      <td>2</td>\n",
       "      <td>10</td>\n",
       "      <td>20</td>\n",
       "    </tr>\n",
       "    <tr>\n",
       "      <th>2</th>\n",
       "      <td>3</td>\n",
       "      <td>2</td>\n",
       "      <td>10</td>\n",
       "      <td>20</td>\n",
       "    </tr>\n",
       "    <tr>\n",
       "      <th>3</th>\n",
       "      <td>4</td>\n",
       "      <td>2</td>\n",
       "      <td>2</td>\n",
       "      <td>76</td>\n",
       "    </tr>\n",
       "    <tr>\n",
       "      <th>4</th>\n",
       "      <td>5</td>\n",
       "      <td>2</td>\n",
       "      <td>2</td>\n",
       "      <td>76</td>\n",
       "    </tr>\n",
       "    <tr>\n",
       "      <th>5</th>\n",
       "      <td>6</td>\n",
       "      <td>3</td>\n",
       "      <td>4</td>\n",
       "      <td>100</td>\n",
       "    </tr>\n",
       "    <tr>\n",
       "      <th>6</th>\n",
       "      <td>7</td>\n",
       "      <td>1</td>\n",
       "      <td>4</td>\n",
       "      <td>155</td>\n",
       "    </tr>\n",
       "    <tr>\n",
       "      <th>7</th>\n",
       "      <td>8</td>\n",
       "      <td>1</td>\n",
       "      <td>4</td>\n",
       "      <td>155</td>\n",
       "    </tr>\n",
       "    <tr>\n",
       "      <th>8</th>\n",
       "      <td>9</td>\n",
       "      <td>2</td>\n",
       "      <td>4</td>\n",
       "      <td>155</td>\n",
       "    </tr>\n",
       "    <tr>\n",
       "      <th>9</th>\n",
       "      <td>10</td>\n",
       "      <td>3</td>\n",
       "      <td>5</td>\n",
       "      <td>197</td>\n",
       "    </tr>\n",
       "    <tr>\n",
       "      <th>10</th>\n",
       "      <td>11</td>\n",
       "      <td>1</td>\n",
       "      <td>8</td>\n",
       "      <td>350</td>\n",
       "    </tr>\n",
       "    <tr>\n",
       "      <th>11</th>\n",
       "      <td>12</td>\n",
       "      <td>1</td>\n",
       "      <td>12</td>\n",
       "      <td>400</td>\n",
       "    </tr>\n",
       "    <tr>\n",
       "      <th>12</th>\n",
       "      <td>13</td>\n",
       "      <td>1</td>\n",
       "      <td>12</td>\n",
       "      <td>400</td>\n",
       "    </tr>\n",
       "    <tr>\n",
       "      <th>13</th>\n",
       "      <td>14</td>\n",
       "      <td>6</td>\n",
       "      <td>1</td>\n",
       "      <td>50</td>\n",
       "    </tr>\n",
       "  </tbody>\n",
       "</table>\n",
       "</div>"
      ],
      "text/plain": [
       "    Usina  Unidades  FOR  Pot. Ativa Max\n",
       "0       1         5    2              12\n",
       "1       2         2   10              20\n",
       "2       3         2   10              20\n",
       "3       4         2    2              76\n",
       "4       5         2    2              76\n",
       "5       6         3    4             100\n",
       "6       7         1    4             155\n",
       "7       8         1    4             155\n",
       "8       9         2    4             155\n",
       "9      10         3    5             197\n",
       "10     11         1    8             350\n",
       "11     12         1   12             400\n",
       "12     13         1   12             400\n",
       "13     14         6    1              50"
      ]
     },
     "execution_count": 5,
     "metadata": {},
     "output_type": "execute_result"
    }
   ],
   "source": [
    "data = pd.read_excel('Gerac.xlsx', usecols=[0, 1, 2, 4])\n",
    "\n",
    "data"
   ]
  },
  {
   "cell_type": "code",
   "execution_count": 6,
   "metadata": {},
   "outputs": [
    {
     "data": {
      "text/html": [
       "<div>\n",
       "<style scoped>\n",
       "    .dataframe tbody tr th:only-of-type {\n",
       "        vertical-align: middle;\n",
       "    }\n",
       "\n",
       "    .dataframe tbody tr th {\n",
       "        vertical-align: top;\n",
       "    }\n",
       "\n",
       "    .dataframe thead th {\n",
       "        text-align: right;\n",
       "    }\n",
       "</style>\n",
       "<table border=\"1\" class=\"dataframe\">\n",
       "  <thead>\n",
       "    <tr style=\"text-align: right;\">\n",
       "      <th></th>\n",
       "      <th>Num.</th>\n",
       "      <th>Valor de Carga</th>\n",
       "      <th>Probabilidade</th>\n",
       "      <th>Prob. Acumulada</th>\n",
       "    </tr>\n",
       "  </thead>\n",
       "  <tbody>\n",
       "    <tr>\n",
       "      <th>0</th>\n",
       "      <td>0</td>\n",
       "      <td>96</td>\n",
       "      <td>0.069406</td>\n",
       "      <td>1.000000</td>\n",
       "    </tr>\n",
       "    <tr>\n",
       "      <th>1</th>\n",
       "      <td>1</td>\n",
       "      <td>100</td>\n",
       "      <td>0.066324</td>\n",
       "      <td>0.930594</td>\n",
       "    </tr>\n",
       "    <tr>\n",
       "      <th>2</th>\n",
       "      <td>2</td>\n",
       "      <td>90</td>\n",
       "      <td>0.060502</td>\n",
       "      <td>0.864269</td>\n",
       "    </tr>\n",
       "    <tr>\n",
       "      <th>3</th>\n",
       "      <td>3</td>\n",
       "      <td>95</td>\n",
       "      <td>0.060388</td>\n",
       "      <td>0.803767</td>\n",
       "    </tr>\n",
       "    <tr>\n",
       "      <th>4</th>\n",
       "      <td>4</td>\n",
       "      <td>92</td>\n",
       "      <td>0.059817</td>\n",
       "      <td>0.743379</td>\n",
       "    </tr>\n",
       "    <tr>\n",
       "      <th>5</th>\n",
       "      <td>5</td>\n",
       "      <td>99</td>\n",
       "      <td>0.053653</td>\n",
       "      <td>0.683562</td>\n",
       "    </tr>\n",
       "    <tr>\n",
       "      <th>6</th>\n",
       "      <td>6</td>\n",
       "      <td>93</td>\n",
       "      <td>0.046119</td>\n",
       "      <td>0.629909</td>\n",
       "    </tr>\n",
       "    <tr>\n",
       "      <th>7</th>\n",
       "      <td>7</td>\n",
       "      <td>60</td>\n",
       "      <td>0.039612</td>\n",
       "      <td>0.583790</td>\n",
       "    </tr>\n",
       "    <tr>\n",
       "      <th>8</th>\n",
       "      <td>8</td>\n",
       "      <td>63</td>\n",
       "      <td>0.032192</td>\n",
       "      <td>0.544178</td>\n",
       "    </tr>\n",
       "    <tr>\n",
       "      <th>9</th>\n",
       "      <td>9</td>\n",
       "      <td>59</td>\n",
       "      <td>0.032192</td>\n",
       "      <td>0.511986</td>\n",
       "    </tr>\n",
       "    <tr>\n",
       "      <th>10</th>\n",
       "      <td>10</td>\n",
       "      <td>91</td>\n",
       "      <td>0.031507</td>\n",
       "      <td>0.479795</td>\n",
       "    </tr>\n",
       "    <tr>\n",
       "      <th>11</th>\n",
       "      <td>11</td>\n",
       "      <td>65</td>\n",
       "      <td>0.029452</td>\n",
       "      <td>0.448288</td>\n",
       "    </tr>\n",
       "    <tr>\n",
       "      <th>12</th>\n",
       "      <td>12</td>\n",
       "      <td>88</td>\n",
       "      <td>0.028311</td>\n",
       "      <td>0.418836</td>\n",
       "    </tr>\n",
       "    <tr>\n",
       "      <th>13</th>\n",
       "      <td>13</td>\n",
       "      <td>58</td>\n",
       "      <td>0.027397</td>\n",
       "      <td>0.390525</td>\n",
       "    </tr>\n",
       "    <tr>\n",
       "      <th>14</th>\n",
       "      <td>14</td>\n",
       "      <td>87</td>\n",
       "      <td>0.026484</td>\n",
       "      <td>0.363128</td>\n",
       "    </tr>\n",
       "    <tr>\n",
       "      <th>15</th>\n",
       "      <td>15</td>\n",
       "      <td>72</td>\n",
       "      <td>0.023858</td>\n",
       "      <td>0.336644</td>\n",
       "    </tr>\n",
       "    <tr>\n",
       "      <th>16</th>\n",
       "      <td>16</td>\n",
       "      <td>85</td>\n",
       "      <td>0.022603</td>\n",
       "      <td>0.312785</td>\n",
       "    </tr>\n",
       "    <tr>\n",
       "      <th>17</th>\n",
       "      <td>17</td>\n",
       "      <td>94</td>\n",
       "      <td>0.021689</td>\n",
       "      <td>0.290183</td>\n",
       "    </tr>\n",
       "    <tr>\n",
       "      <th>18</th>\n",
       "      <td>18</td>\n",
       "      <td>64</td>\n",
       "      <td>0.021689</td>\n",
       "      <td>0.268493</td>\n",
       "    </tr>\n",
       "    <tr>\n",
       "      <th>19</th>\n",
       "      <td>19</td>\n",
       "      <td>67</td>\n",
       "      <td>0.019635</td>\n",
       "      <td>0.246804</td>\n",
       "    </tr>\n",
       "    <tr>\n",
       "      <th>20</th>\n",
       "      <td>20</td>\n",
       "      <td>80</td>\n",
       "      <td>0.019406</td>\n",
       "      <td>0.227169</td>\n",
       "    </tr>\n",
       "    <tr>\n",
       "      <th>21</th>\n",
       "      <td>21</td>\n",
       "      <td>70</td>\n",
       "      <td>0.019406</td>\n",
       "      <td>0.207763</td>\n",
       "    </tr>\n",
       "    <tr>\n",
       "      <th>22</th>\n",
       "      <td>22</td>\n",
       "      <td>66</td>\n",
       "      <td>0.018721</td>\n",
       "      <td>0.188356</td>\n",
       "    </tr>\n",
       "    <tr>\n",
       "      <th>23</th>\n",
       "      <td>23</td>\n",
       "      <td>62</td>\n",
       "      <td>0.018493</td>\n",
       "      <td>0.169635</td>\n",
       "    </tr>\n",
       "    <tr>\n",
       "      <th>24</th>\n",
       "      <td>24</td>\n",
       "      <td>86</td>\n",
       "      <td>0.017808</td>\n",
       "      <td>0.151142</td>\n",
       "    </tr>\n",
       "    <tr>\n",
       "      <th>25</th>\n",
       "      <td>25</td>\n",
       "      <td>74</td>\n",
       "      <td>0.017808</td>\n",
       "      <td>0.133333</td>\n",
       "    </tr>\n",
       "    <tr>\n",
       "      <th>26</th>\n",
       "      <td>26</td>\n",
       "      <td>97</td>\n",
       "      <td>0.016324</td>\n",
       "      <td>0.115525</td>\n",
       "    </tr>\n",
       "    <tr>\n",
       "      <th>27</th>\n",
       "      <td>27</td>\n",
       "      <td>83</td>\n",
       "      <td>0.014840</td>\n",
       "      <td>0.099201</td>\n",
       "    </tr>\n",
       "    <tr>\n",
       "      <th>28</th>\n",
       "      <td>28</td>\n",
       "      <td>73</td>\n",
       "      <td>0.014840</td>\n",
       "      <td>0.084361</td>\n",
       "    </tr>\n",
       "    <tr>\n",
       "      <th>29</th>\n",
       "      <td>29</td>\n",
       "      <td>56</td>\n",
       "      <td>0.014840</td>\n",
       "      <td>0.069521</td>\n",
       "    </tr>\n",
       "    <tr>\n",
       "      <th>30</th>\n",
       "      <td>30</td>\n",
       "      <td>98</td>\n",
       "      <td>0.012557</td>\n",
       "      <td>0.054680</td>\n",
       "    </tr>\n",
       "    <tr>\n",
       "      <th>31</th>\n",
       "      <td>31</td>\n",
       "      <td>68</td>\n",
       "      <td>0.008904</td>\n",
       "      <td>0.042123</td>\n",
       "    </tr>\n",
       "    <tr>\n",
       "      <th>32</th>\n",
       "      <td>32</td>\n",
       "      <td>76</td>\n",
       "      <td>0.007420</td>\n",
       "      <td>0.033219</td>\n",
       "    </tr>\n",
       "    <tr>\n",
       "      <th>33</th>\n",
       "      <td>33</td>\n",
       "      <td>81</td>\n",
       "      <td>0.006849</td>\n",
       "      <td>0.025799</td>\n",
       "    </tr>\n",
       "    <tr>\n",
       "      <th>34</th>\n",
       "      <td>34</td>\n",
       "      <td>89</td>\n",
       "      <td>0.005023</td>\n",
       "      <td>0.018950</td>\n",
       "    </tr>\n",
       "    <tr>\n",
       "      <th>35</th>\n",
       "      <td>35</td>\n",
       "      <td>69</td>\n",
       "      <td>0.005023</td>\n",
       "      <td>0.013927</td>\n",
       "    </tr>\n",
       "    <tr>\n",
       "      <th>36</th>\n",
       "      <td>36</td>\n",
       "      <td>75</td>\n",
       "      <td>0.005023</td>\n",
       "      <td>0.008904</td>\n",
       "    </tr>\n",
       "    <tr>\n",
       "      <th>37</th>\n",
       "      <td>37</td>\n",
       "      <td>78</td>\n",
       "      <td>0.003881</td>\n",
       "      <td>0.003881</td>\n",
       "    </tr>\n",
       "  </tbody>\n",
       "</table>\n",
       "</div>"
      ],
      "text/plain": [
       "    Num.  Valor de Carga  Probabilidade  Prob. Acumulada\n",
       "0      0              96       0.069406         1.000000\n",
       "1      1             100       0.066324         0.930594\n",
       "2      2              90       0.060502         0.864269\n",
       "3      3              95       0.060388         0.803767\n",
       "4      4              92       0.059817         0.743379\n",
       "5      5              99       0.053653         0.683562\n",
       "6      6              93       0.046119         0.629909\n",
       "7      7              60       0.039612         0.583790\n",
       "8      8              63       0.032192         0.544178\n",
       "9      9              59       0.032192         0.511986\n",
       "10    10              91       0.031507         0.479795\n",
       "11    11              65       0.029452         0.448288\n",
       "12    12              88       0.028311         0.418836\n",
       "13    13              58       0.027397         0.390525\n",
       "14    14              87       0.026484         0.363128\n",
       "15    15              72       0.023858         0.336644\n",
       "16    16              85       0.022603         0.312785\n",
       "17    17              94       0.021689         0.290183\n",
       "18    18              64       0.021689         0.268493\n",
       "19    19              67       0.019635         0.246804\n",
       "20    20              80       0.019406         0.227169\n",
       "21    21              70       0.019406         0.207763\n",
       "22    22              66       0.018721         0.188356\n",
       "23    23              62       0.018493         0.169635\n",
       "24    24              86       0.017808         0.151142\n",
       "25    25              74       0.017808         0.133333\n",
       "26    26              97       0.016324         0.115525\n",
       "27    27              83       0.014840         0.099201\n",
       "28    28              73       0.014840         0.084361\n",
       "29    29              56       0.014840         0.069521\n",
       "30    30              98       0.012557         0.054680\n",
       "31    31              68       0.008904         0.042123\n",
       "32    32              76       0.007420         0.033219\n",
       "33    33              81       0.006849         0.025799\n",
       "34    34              89       0.005023         0.018950\n",
       "35    35              69       0.005023         0.013927\n",
       "36    36              75       0.005023         0.008904\n",
       "37    37              78       0.003881         0.003881"
      ]
     },
     "execution_count": 6,
     "metadata": {},
     "output_type": "execute_result"
    }
   ],
   "source": [
    "dados_carga = pd.read_excel('dataframe_curva_de_carga.xlsx')\n",
    "dados_carga"
   ]
  },
  {
   "cell_type": "code",
   "execution_count": 7,
   "metadata": {},
   "outputs": [],
   "source": [
    "\n",
    "# Dados das usinas\n",
    "DUSI = np.array(data)\n",
    "\n",
    "# Carga a ser atendida\n",
    "PLOAD = 2850  # MW\n",
    "\n",
    "\n",
    "# # Patamares de carga\n",
    "# #                   Patamar   Nível(%)    Horas\n",
    "# DLOAD = np.array([  [ 1,        100,        3  ],\n",
    "#                     [ 2,        80,         9  ],\n",
    "#                     [ 3,        50,         12 ]\n",
    "# ])\n",
    "\n",
    "DLOAD = np.array(dados_carga)"
   ]
  },
  {
   "cell_type": "markdown",
   "metadata": {},
   "source": [
    "### Interpretar dados de entrada "
   ]
  },
  {
   "cell_type": "code",
   "execution_count": 8,
   "metadata": {},
   "outputs": [],
   "source": [
    "usinas = DUSI[:, 0]\n",
    "n_unidades = DUSI[:, 1]\n",
    "FOR = DUSI[:, 2] / 100\n",
    "pot = DUSI[:, 3]\n",
    "\n",
    "n_usinas = len(usinas)\n",
    "capacidade_usinas = n_unidades * pot\n",
    "capacidade_total = sum(capacidade_usinas)  # total do sistema\n",
    "\n",
    "# print('Usinas: ', usinas)\n",
    "# print('Número de unidades: ', n_unidades)\n",
    "# print('Potência: ', pot)\n",
    "# print('FOR: ', FOR)\n",
    "# print('Capacidade total: ', capacidade_total)\n",
    "# print('Capacidade usinas: ', capacidade_usinas)"
   ]
  },
  {
   "cell_type": "code",
   "execution_count": 9,
   "metadata": {},
   "outputs": [
    {
     "name": "stdout",
     "output_type": "stream",
     "text": [
      "Patamares de carga:  [37. 36. 35. 34. 33. 32. 31. 30. 29. 28. 27. 26. 25. 24. 23. 22. 21. 20.\n",
      " 19. 18. 17. 16. 15. 14. 13. 12. 11. 10.  9.  8.  7.  6.  5.  4.  3.  2.\n",
      "  1.  0.]\n",
      "Níveis de carga:  [0.78 0.75 0.69 0.89 0.81 0.76 0.68 0.98 0.56 0.73 0.83 0.97 0.74 0.86\n",
      " 0.62 0.66 0.7  0.8  0.67 0.64 0.94 0.85 0.72 0.87 0.58 0.88 0.65 0.91\n",
      " 0.59 0.63 0.6  0.93 0.99 0.92 0.95 0.9  1.   0.96]\n",
      "Prob. patamar:  [0.00388128 0.00502283 0.00502283 0.00502283 0.00684932 0.00742009\n",
      " 0.00890411 0.01255708 0.01484018 0.01484018 0.01484018 0.0163242\n",
      " 0.01780822 0.01780822 0.01849315 0.01872146 0.01940639 0.01940639\n",
      " 0.0196347  0.0216895  0.0216895  0.02260274 0.02385845 0.02648402\n",
      " 0.02739726 0.0283105  0.02945205 0.03150685 0.03219178 0.03219178\n",
      " 0.03961187 0.04611872 0.05365297 0.05981735 0.06038813 0.06050228\n",
      " 0.0663242  0.06940639]\n",
      "Prob. acumulada:  [0.00388128 0.00890411 0.01392694 0.01894977 0.02579909 0.03321918\n",
      " 0.04212329 0.05468037 0.06952055 0.08436073 0.09920091 0.11552511\n",
      " 0.13333333 0.15114155 0.1696347  0.18835616 0.20776256 0.22716895\n",
      " 0.24680365 0.26849315 0.29018265 0.31278539 0.33664384 0.36312785\n",
      " 0.39052511 0.41883562 0.44828767 0.47979452 0.5119863  0.54417808\n",
      " 0.58378995 0.62990868 0.68356164 0.743379   0.80376712 0.86426941\n",
      " 0.93059361 1.        ]\n",
      "Patamares em string:  ['78', '75', '69', '89', '81', '76', '68', '98', '56', '73', '83', '97', '74', '86', '62', '66', '70', '80', '67', '64', '94', '85', '72', '87', '57', '88', '65', '91', '59', '63', '60', '93', '99', '92', '95', '90', '100', '96']\n"
     ]
    }
   ],
   "source": [
    "\n",
    "# Sort DLOAD by the fourth column (ascending order)\n",
    "DLOAD = DLOAD[DLOAD[:, 3].argsort()]\n",
    "\n",
    "patamares = DLOAD[:, 0]\n",
    "niveis = DLOAD[:, 1] / 100\n",
    "p_patamar = DLOAD[:, 2]  # probabilidade de cada patamar\n",
    "p_patamar_acumulado = DLOAD[:, 3]  # probabilidade acumulada\n",
    "\n",
    "# número de patamares\n",
    "n_patamares = len(patamares)\n",
    "\n",
    "niveis_str = [str(int(100*nivel)) for nivel in niveis]\n",
    "\n",
    "print('Patamares de carga: ', patamares)\n",
    "print('Níveis de carga: ', niveis)\n",
    "print('Prob. patamar: ', p_patamar)\n",
    "print('Prob. acumulada: ', p_patamar_acumulado)\n",
    "print('Patamares em string: ', niveis_str)\n"
   ]
  },
  {
   "cell_type": "markdown",
   "metadata": {},
   "source": [
    "### Plotar gráfico com a proporção acumulada"
   ]
  },
  {
   "cell_type": "code",
   "execution_count": 10,
   "metadata": {},
   "outputs": [
    {
     "data": {
      "application/vnd.plotly.v1+json": {
       "config": {
        "plotlyServerURL": "https://plot.ly"
       },
       "data": [
        {
         "hovertemplate": "Patamar=%{x}<br>Probabilidade=%{y}<extra></extra>",
         "legendgroup": "",
         "line": {
          "color": "#636efa",
          "dash": "solid",
          "shape": "hv"
         },
         "marker": {
          "symbol": "circle"
         },
         "mode": "lines",
         "name": "",
         "orientation": "v",
         "showlegend": false,
         "type": "scatter",
         "x": [
          " ",
          "78",
          "75",
          "69",
          "89",
          "81",
          "76",
          "68",
          "98",
          "56",
          "73",
          "83",
          "97",
          "74",
          "86",
          "62",
          "66",
          "70",
          "80",
          "67",
          "64",
          "94",
          "85",
          "72",
          "87",
          "57",
          "88",
          "65",
          "91",
          "59",
          "63",
          "60",
          "93",
          "99",
          "92",
          "95",
          "90",
          "100",
          "96",
          "  "
         ],
         "xaxis": "x",
         "y": [
          0,
          0.003881278538812785,
          0.008904109589041096,
          0.01392694063926941,
          0.01894977168949772,
          0.02579908675799087,
          0.03321917808219178,
          0.04212328767123288,
          0.05468036529680365,
          0.06952054794520549,
          0.08436073059360731,
          0.09920091324200914,
          0.1155251141552511,
          0.1333333333333333,
          0.1511415525114155,
          0.169634703196347,
          0.1883561643835616,
          0.2077625570776256,
          0.2271689497716895,
          0.2468036529680365,
          0.2684931506849315,
          0.2901826484018265,
          0.3127853881278539,
          0.3366438356164383,
          0.3631278538812786,
          0.3905251141552512,
          0.4188356164383562,
          0.4482876712328767,
          0.4797945205479452,
          0.511986301369863,
          0.5441780821917808,
          0.5837899543378995,
          0.6299086757990867,
          0.6835616438356164,
          0.7433789954337898,
          0.8037671232876711,
          0.8642694063926939,
          0.9305936073059359,
          0.9999999999999998,
          1
         ],
         "yaxis": "y"
        }
       ],
       "layout": {
        "height": 600,
        "legend": {
         "tracegroupgap": 0
        },
        "template": {
         "data": {
          "bar": [
           {
            "error_x": {
             "color": "#2a3f5f"
            },
            "error_y": {
             "color": "#2a3f5f"
            },
            "marker": {
             "line": {
              "color": "#E5ECF6",
              "width": 0.5
             },
             "pattern": {
              "fillmode": "overlay",
              "size": 10,
              "solidity": 0.2
             }
            },
            "type": "bar"
           }
          ],
          "barpolar": [
           {
            "marker": {
             "line": {
              "color": "#E5ECF6",
              "width": 0.5
             },
             "pattern": {
              "fillmode": "overlay",
              "size": 10,
              "solidity": 0.2
             }
            },
            "type": "barpolar"
           }
          ],
          "carpet": [
           {
            "aaxis": {
             "endlinecolor": "#2a3f5f",
             "gridcolor": "white",
             "linecolor": "white",
             "minorgridcolor": "white",
             "startlinecolor": "#2a3f5f"
            },
            "baxis": {
             "endlinecolor": "#2a3f5f",
             "gridcolor": "white",
             "linecolor": "white",
             "minorgridcolor": "white",
             "startlinecolor": "#2a3f5f"
            },
            "type": "carpet"
           }
          ],
          "choropleth": [
           {
            "colorbar": {
             "outlinewidth": 0,
             "ticks": ""
            },
            "type": "choropleth"
           }
          ],
          "contour": [
           {
            "colorbar": {
             "outlinewidth": 0,
             "ticks": ""
            },
            "colorscale": [
             [
              0,
              "#0d0887"
             ],
             [
              0.1111111111111111,
              "#46039f"
             ],
             [
              0.2222222222222222,
              "#7201a8"
             ],
             [
              0.3333333333333333,
              "#9c179e"
             ],
             [
              0.4444444444444444,
              "#bd3786"
             ],
             [
              0.5555555555555556,
              "#d8576b"
             ],
             [
              0.6666666666666666,
              "#ed7953"
             ],
             [
              0.7777777777777778,
              "#fb9f3a"
             ],
             [
              0.8888888888888888,
              "#fdca26"
             ],
             [
              1,
              "#f0f921"
             ]
            ],
            "type": "contour"
           }
          ],
          "contourcarpet": [
           {
            "colorbar": {
             "outlinewidth": 0,
             "ticks": ""
            },
            "type": "contourcarpet"
           }
          ],
          "heatmap": [
           {
            "colorbar": {
             "outlinewidth": 0,
             "ticks": ""
            },
            "colorscale": [
             [
              0,
              "#0d0887"
             ],
             [
              0.1111111111111111,
              "#46039f"
             ],
             [
              0.2222222222222222,
              "#7201a8"
             ],
             [
              0.3333333333333333,
              "#9c179e"
             ],
             [
              0.4444444444444444,
              "#bd3786"
             ],
             [
              0.5555555555555556,
              "#d8576b"
             ],
             [
              0.6666666666666666,
              "#ed7953"
             ],
             [
              0.7777777777777778,
              "#fb9f3a"
             ],
             [
              0.8888888888888888,
              "#fdca26"
             ],
             [
              1,
              "#f0f921"
             ]
            ],
            "type": "heatmap"
           }
          ],
          "heatmapgl": [
           {
            "colorbar": {
             "outlinewidth": 0,
             "ticks": ""
            },
            "colorscale": [
             [
              0,
              "#0d0887"
             ],
             [
              0.1111111111111111,
              "#46039f"
             ],
             [
              0.2222222222222222,
              "#7201a8"
             ],
             [
              0.3333333333333333,
              "#9c179e"
             ],
             [
              0.4444444444444444,
              "#bd3786"
             ],
             [
              0.5555555555555556,
              "#d8576b"
             ],
             [
              0.6666666666666666,
              "#ed7953"
             ],
             [
              0.7777777777777778,
              "#fb9f3a"
             ],
             [
              0.8888888888888888,
              "#fdca26"
             ],
             [
              1,
              "#f0f921"
             ]
            ],
            "type": "heatmapgl"
           }
          ],
          "histogram": [
           {
            "marker": {
             "pattern": {
              "fillmode": "overlay",
              "size": 10,
              "solidity": 0.2
             }
            },
            "type": "histogram"
           }
          ],
          "histogram2d": [
           {
            "colorbar": {
             "outlinewidth": 0,
             "ticks": ""
            },
            "colorscale": [
             [
              0,
              "#0d0887"
             ],
             [
              0.1111111111111111,
              "#46039f"
             ],
             [
              0.2222222222222222,
              "#7201a8"
             ],
             [
              0.3333333333333333,
              "#9c179e"
             ],
             [
              0.4444444444444444,
              "#bd3786"
             ],
             [
              0.5555555555555556,
              "#d8576b"
             ],
             [
              0.6666666666666666,
              "#ed7953"
             ],
             [
              0.7777777777777778,
              "#fb9f3a"
             ],
             [
              0.8888888888888888,
              "#fdca26"
             ],
             [
              1,
              "#f0f921"
             ]
            ],
            "type": "histogram2d"
           }
          ],
          "histogram2dcontour": [
           {
            "colorbar": {
             "outlinewidth": 0,
             "ticks": ""
            },
            "colorscale": [
             [
              0,
              "#0d0887"
             ],
             [
              0.1111111111111111,
              "#46039f"
             ],
             [
              0.2222222222222222,
              "#7201a8"
             ],
             [
              0.3333333333333333,
              "#9c179e"
             ],
             [
              0.4444444444444444,
              "#bd3786"
             ],
             [
              0.5555555555555556,
              "#d8576b"
             ],
             [
              0.6666666666666666,
              "#ed7953"
             ],
             [
              0.7777777777777778,
              "#fb9f3a"
             ],
             [
              0.8888888888888888,
              "#fdca26"
             ],
             [
              1,
              "#f0f921"
             ]
            ],
            "type": "histogram2dcontour"
           }
          ],
          "mesh3d": [
           {
            "colorbar": {
             "outlinewidth": 0,
             "ticks": ""
            },
            "type": "mesh3d"
           }
          ],
          "parcoords": [
           {
            "line": {
             "colorbar": {
              "outlinewidth": 0,
              "ticks": ""
             }
            },
            "type": "parcoords"
           }
          ],
          "pie": [
           {
            "automargin": true,
            "type": "pie"
           }
          ],
          "scatter": [
           {
            "fillpattern": {
             "fillmode": "overlay",
             "size": 10,
             "solidity": 0.2
            },
            "type": "scatter"
           }
          ],
          "scatter3d": [
           {
            "line": {
             "colorbar": {
              "outlinewidth": 0,
              "ticks": ""
             }
            },
            "marker": {
             "colorbar": {
              "outlinewidth": 0,
              "ticks": ""
             }
            },
            "type": "scatter3d"
           }
          ],
          "scattercarpet": [
           {
            "marker": {
             "colorbar": {
              "outlinewidth": 0,
              "ticks": ""
             }
            },
            "type": "scattercarpet"
           }
          ],
          "scattergeo": [
           {
            "marker": {
             "colorbar": {
              "outlinewidth": 0,
              "ticks": ""
             }
            },
            "type": "scattergeo"
           }
          ],
          "scattergl": [
           {
            "marker": {
             "colorbar": {
              "outlinewidth": 0,
              "ticks": ""
             }
            },
            "type": "scattergl"
           }
          ],
          "scattermapbox": [
           {
            "marker": {
             "colorbar": {
              "outlinewidth": 0,
              "ticks": ""
             }
            },
            "type": "scattermapbox"
           }
          ],
          "scatterpolar": [
           {
            "marker": {
             "colorbar": {
              "outlinewidth": 0,
              "ticks": ""
             }
            },
            "type": "scatterpolar"
           }
          ],
          "scatterpolargl": [
           {
            "marker": {
             "colorbar": {
              "outlinewidth": 0,
              "ticks": ""
             }
            },
            "type": "scatterpolargl"
           }
          ],
          "scatterternary": [
           {
            "marker": {
             "colorbar": {
              "outlinewidth": 0,
              "ticks": ""
             }
            },
            "type": "scatterternary"
           }
          ],
          "surface": [
           {
            "colorbar": {
             "outlinewidth": 0,
             "ticks": ""
            },
            "colorscale": [
             [
              0,
              "#0d0887"
             ],
             [
              0.1111111111111111,
              "#46039f"
             ],
             [
              0.2222222222222222,
              "#7201a8"
             ],
             [
              0.3333333333333333,
              "#9c179e"
             ],
             [
              0.4444444444444444,
              "#bd3786"
             ],
             [
              0.5555555555555556,
              "#d8576b"
             ],
             [
              0.6666666666666666,
              "#ed7953"
             ],
             [
              0.7777777777777778,
              "#fb9f3a"
             ],
             [
              0.8888888888888888,
              "#fdca26"
             ],
             [
              1,
              "#f0f921"
             ]
            ],
            "type": "surface"
           }
          ],
          "table": [
           {
            "cells": {
             "fill": {
              "color": "#EBF0F8"
             },
             "line": {
              "color": "white"
             }
            },
            "header": {
             "fill": {
              "color": "#C8D4E3"
             },
             "line": {
              "color": "white"
             }
            },
            "type": "table"
           }
          ]
         },
         "layout": {
          "annotationdefaults": {
           "arrowcolor": "#2a3f5f",
           "arrowhead": 0,
           "arrowwidth": 1
          },
          "autotypenumbers": "strict",
          "coloraxis": {
           "colorbar": {
            "outlinewidth": 0,
            "ticks": ""
           }
          },
          "colorscale": {
           "diverging": [
            [
             0,
             "#8e0152"
            ],
            [
             0.1,
             "#c51b7d"
            ],
            [
             0.2,
             "#de77ae"
            ],
            [
             0.3,
             "#f1b6da"
            ],
            [
             0.4,
             "#fde0ef"
            ],
            [
             0.5,
             "#f7f7f7"
            ],
            [
             0.6,
             "#e6f5d0"
            ],
            [
             0.7,
             "#b8e186"
            ],
            [
             0.8,
             "#7fbc41"
            ],
            [
             0.9,
             "#4d9221"
            ],
            [
             1,
             "#276419"
            ]
           ],
           "sequential": [
            [
             0,
             "#0d0887"
            ],
            [
             0.1111111111111111,
             "#46039f"
            ],
            [
             0.2222222222222222,
             "#7201a8"
            ],
            [
             0.3333333333333333,
             "#9c179e"
            ],
            [
             0.4444444444444444,
             "#bd3786"
            ],
            [
             0.5555555555555556,
             "#d8576b"
            ],
            [
             0.6666666666666666,
             "#ed7953"
            ],
            [
             0.7777777777777778,
             "#fb9f3a"
            ],
            [
             0.8888888888888888,
             "#fdca26"
            ],
            [
             1,
             "#f0f921"
            ]
           ],
           "sequentialminus": [
            [
             0,
             "#0d0887"
            ],
            [
             0.1111111111111111,
             "#46039f"
            ],
            [
             0.2222222222222222,
             "#7201a8"
            ],
            [
             0.3333333333333333,
             "#9c179e"
            ],
            [
             0.4444444444444444,
             "#bd3786"
            ],
            [
             0.5555555555555556,
             "#d8576b"
            ],
            [
             0.6666666666666666,
             "#ed7953"
            ],
            [
             0.7777777777777778,
             "#fb9f3a"
            ],
            [
             0.8888888888888888,
             "#fdca26"
            ],
            [
             1,
             "#f0f921"
            ]
           ]
          },
          "colorway": [
           "#636efa",
           "#EF553B",
           "#00cc96",
           "#ab63fa",
           "#FFA15A",
           "#19d3f3",
           "#FF6692",
           "#B6E880",
           "#FF97FF",
           "#FECB52"
          ],
          "font": {
           "color": "#2a3f5f"
          },
          "geo": {
           "bgcolor": "white",
           "lakecolor": "white",
           "landcolor": "#E5ECF6",
           "showlakes": true,
           "showland": true,
           "subunitcolor": "white"
          },
          "hoverlabel": {
           "align": "left"
          },
          "hovermode": "closest",
          "mapbox": {
           "style": "light"
          },
          "paper_bgcolor": "white",
          "plot_bgcolor": "#E5ECF6",
          "polar": {
           "angularaxis": {
            "gridcolor": "white",
            "linecolor": "white",
            "ticks": ""
           },
           "bgcolor": "#E5ECF6",
           "radialaxis": {
            "gridcolor": "white",
            "linecolor": "white",
            "ticks": ""
           }
          },
          "scene": {
           "xaxis": {
            "backgroundcolor": "#E5ECF6",
            "gridcolor": "white",
            "gridwidth": 2,
            "linecolor": "white",
            "showbackground": true,
            "ticks": "",
            "zerolinecolor": "white"
           },
           "yaxis": {
            "backgroundcolor": "#E5ECF6",
            "gridcolor": "white",
            "gridwidth": 2,
            "linecolor": "white",
            "showbackground": true,
            "ticks": "",
            "zerolinecolor": "white"
           },
           "zaxis": {
            "backgroundcolor": "#E5ECF6",
            "gridcolor": "white",
            "gridwidth": 2,
            "linecolor": "white",
            "showbackground": true,
            "ticks": "",
            "zerolinecolor": "white"
           }
          },
          "shapedefaults": {
           "line": {
            "color": "#2a3f5f"
           }
          },
          "ternary": {
           "aaxis": {
            "gridcolor": "white",
            "linecolor": "white",
            "ticks": ""
           },
           "baxis": {
            "gridcolor": "white",
            "linecolor": "white",
            "ticks": ""
           },
           "bgcolor": "#E5ECF6",
           "caxis": {
            "gridcolor": "white",
            "linecolor": "white",
            "ticks": ""
           }
          },
          "title": {
           "x": 0.05
          },
          "xaxis": {
           "automargin": true,
           "gridcolor": "white",
           "linecolor": "white",
           "ticks": "",
           "title": {
            "standoff": 15
           },
           "zerolinecolor": "white",
           "zerolinewidth": 2
          },
          "yaxis": {
           "automargin": true,
           "gridcolor": "white",
           "linecolor": "white",
           "ticks": "",
           "title": {
            "standoff": 15
           },
           "zerolinecolor": "white",
           "zerolinewidth": 2
          }
         }
        },
        "title": {
         "text": "Probabilidade por patamar"
        },
        "width": 900,
        "xaxis": {
         "anchor": "y",
         "domain": [
          0,
          1
         ],
         "tickvals": [
          "78",
          "75",
          "69",
          "89",
          "81",
          "76",
          "68",
          "98",
          "56",
          "73",
          "83",
          "97",
          "74",
          "86",
          "62",
          "66",
          "70",
          "80",
          "67",
          "64",
          "94",
          "85",
          "72",
          "87",
          "57",
          "88",
          "65",
          "91",
          "59",
          "63",
          "60",
          "93",
          "99",
          "92",
          "95",
          "90",
          "100",
          "96"
         ],
         "title": {
          "text": "Patamar"
         }
        },
        "yaxis": {
         "anchor": "x",
         "domain": [
          0,
          1
         ],
         "tickvals": [
          0,
          0.1,
          0.2,
          0.30000000000000004,
          0.4,
          0.5,
          0.6000000000000001,
          0.7000000000000001,
          0.8,
          0.9,
          1
         ],
         "title": {
          "text": "Probabilidade"
         }
        }
       }
      }
     },
     "metadata": {},
     "output_type": "display_data"
    }
   ],
   "source": [
    "\n",
    "df = pd.DataFrame({\n",
    "    'Patamar': [' '] + niveis_str + ['  '],\n",
    "    'Probabilidade': [0] + list(p_patamar_acumulado) + [1]\n",
    "})\n",
    "\n",
    "fig = px.line(df, x='Patamar', y='Probabilidade', title='Probabilidade por patamar',line_shape='hv')\n",
    "\n",
    "# formatação do gráfico\n",
    "altura = 600\n",
    "fig.update_layout(height=altura, width=altura*1.5)\n",
    "fig.update_xaxes(tickvals=niveis_str)\n",
    "fig.update_yaxes(tickvals=np.arange(0, 1.1, 0.1))\n",
    "fig.show()"
   ]
  },
  {
   "cell_type": "markdown",
   "metadata": {},
   "source": [
    "### **Algoritmo Principal**"
   ]
  },
  {
   "cell_type": "code",
   "execution_count": 11,
   "metadata": {},
   "outputs": [],
   "source": [
    "tol = 0.003\n",
    "NSmax = 1e7\n",
    "NSmin = 100"
   ]
  },
  {
   "cell_type": "code",
   "execution_count": 12,
   "metadata": {},
   "outputs": [
    {
     "name": "stderr",
     "output_type": "stream",
     "text": [
      "C:\\Users\\dudum\\AppData\\Local\\Temp\\ipykernel_16364\\516471762.py:41: RuntimeWarning:\n",
      "\n",
      "invalid value encountered in scalar divide\n",
      "\n"
     ]
    }
   ],
   "source": [
    "\n",
    "beta_LOLP = tol + 1\n",
    "NS = 0\n",
    "soma_LOLP = 0\n",
    "soma_quad_LOLP = 0\n",
    "soma_EPNS = 0\n",
    "\n",
    "while beta_LOLP > tol and NS < NSmax:\n",
    "    NS += 1\n",
    "    capacidade = capacidade_total\n",
    "\n",
    "    U_carga = np.random.rand()\n",
    "\n",
    "    carga = PLOAD\n",
    "    for patamar in range(n_patamares):\n",
    "        if U_carga < p_patamar_acumulado[patamar]:\n",
    "            carga = PLOAD * niveis[patamar]\n",
    "            break\n",
    "\n",
    "\n",
    "    for usi in range(n_usinas):\n",
    "        for unid in range(n_unidades[usi]):\n",
    "            Ui = np.random.rand()\n",
    "            if Ui < FOR[usi]:\n",
    "                capacidade -= pot[usi]\n",
    "                \n",
    "    if capacidade < carga:\n",
    "        # LOLP\n",
    "        soma_LOLP += 1\n",
    "        soma_quad_LOLP += 1 ** 2  # p/ convergencia\n",
    "\n",
    "        # EPNS\n",
    "        soma_EPNS += (carga - capacidade)\n",
    "\n",
    "    v_esperado_LOLP = soma_LOLP / NS  # --> RESPOSTA\n",
    "    v_esperado_EPNS = soma_EPNS / NS\n",
    "\n",
    "    # convergencia\n",
    "    if NS > NSmin:\n",
    "        variancia_LOLP = (soma_quad_LOLP - NS * v_esperado_LOLP**2) / (NS - 1)\n",
    "        variancia_do_valor_esperado_LOLP = variancia_LOLP / NS\n",
    "        beta_LOLP = np.sqrt(variancia_do_valor_esperado_LOLP) / v_esperado_LOLP\n",
    "        if np.isnan(beta_LOLP):\n",
    "            beta_LOLP = np.inf\n"
   ]
  },
  {
   "cell_type": "markdown",
   "metadata": {},
   "source": [
    "### Resultados "
   ]
  },
  {
   "cell_type": "code",
   "execution_count": 17,
   "metadata": {},
   "outputs": [],
   "source": [
    "precisao = 8\n",
    "\n",
    "LOLP = v_esperado_LOLP\n",
    "EPNS = v_esperado_EPNS\n",
    "LOLE = LOLP * 8760\n",
    "EENS = EPNS * 8760\n"
   ]
  },
  {
   "cell_type": "code",
   "execution_count": 14,
   "metadata": {},
   "outputs": [],
   "source": [
    "E_sob_curva = sum(100 * niveis * p_patamar * 8760) * carga\n",
    "\n",
    "EIR = 1 - EENS/E_sob_curva"
   ]
  },
  {
   "cell_type": "code",
   "execution_count": 21,
   "metadata": {},
   "outputs": [
    {
     "name": "stdout",
     "output_type": "stream",
     "text": [
      "LOLP:  0.02338443 \n",
      "EPNS:  3.62744494 \t MW \n",
      "LOLE:  204.84757766 \t h/ano \n",
      "EENS:  31776.41769366 \t MWh/ano \n",
      "EIR :  0.99998381\n"
     ]
    }
   ],
   "source": [
    "print(\"LOLP: \", round(LOLP, precisao),\n",
    "    \"\\nEPNS: \", round(EPNS, precisao), \"\\t MW\",\n",
    "    \"\\nLOLE: \", round(LOLE, precisao), \"\\t h/ano\",\n",
    "    \"\\nEENS: \", round(EENS, precisao), \"\\t MWh/ano\",\n",
    "    \"\\nEIR : \", round(EIR , precisao))"
   ]
  },
  {
   "cell_type": "markdown",
   "metadata": {},
   "source": [
    "#### Convergência"
   ]
  },
  {
   "cell_type": "code",
   "execution_count": 16,
   "metadata": {},
   "outputs": [
    {
     "name": "stdout",
     "output_type": "stream",
     "text": [
      "NS = 4640396 \n",
      "beta_LOLP = 0.003\n"
     ]
    }
   ],
   "source": [
    "print('NS =', NS, \n",
    "'\\nbeta_LOLP =', round(beta_LOLP, precisao))"
   ]
  }
 ],
 "metadata": {
  "kernelspec": {
   "display_name": "Python 3",
   "language": "python",
   "name": "python3"
  },
  "language_info": {
   "codemirror_mode": {
    "name": "ipython",
    "version": 3
   },
   "file_extension": ".py",
   "mimetype": "text/x-python",
   "name": "python",
   "nbconvert_exporter": "python",
   "pygments_lexer": "ipython3",
   "version": "3.11.4"
  }
 },
 "nbformat": 4,
 "nbformat_minor": 2
}
